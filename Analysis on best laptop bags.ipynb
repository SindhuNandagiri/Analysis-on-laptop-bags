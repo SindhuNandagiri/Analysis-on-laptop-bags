{
 "cells": [
  {
   "cell_type": "code",
   "execution_count": 1,
   "id": "c0a6d5d1-6e95-4e4c-894d-1d262fd92e54",
   "metadata": {},
   "outputs": [],
   "source": [
    "import requests\n",
    "from bs4 import BeautifulSoup\n",
    "import re\n",
    "import pandas as pd"
   ]
  },
  {
   "cell_type": "code",
   "execution_count": 2,
   "id": "45314290-eb61-483e-9cfd-9a791896059c",
   "metadata": {},
   "outputs": [],
   "source": [
    "url=\"https://www.flipkart.com/search?q=laptop+bags&otracker=search&otracker1=search&marketplace=FLIPKART&as-show=on&as=off&as-pos=1\""
   ]
  },
  {
   "cell_type": "code",
   "execution_count": 3,
   "id": "5e5dbfa2-7be8-45e6-9fbd-1ec5c574eff1",
   "metadata": {},
   "outputs": [],
   "source": [
    "url=\"https://www.flipkart.com/search?q=laptop+bags&otracker=search&otracker1=search&marketplace=FLIPKART&as-show=on&as=off&as-pos=1\"\n",
    "page=requests.get(url)"
   ]
  },
  {
   "cell_type": "code",
   "execution_count": 7,
   "id": "6d3cb0c6-8779-4a1c-9242-222b6a3b4aa2",
   "metadata": {},
   "outputs": [
    {
     "data": {
      "text/plain": [
       "<Response [200]>"
      ]
     },
     "execution_count": 7,
     "metadata": {},
     "output_type": "execute_result"
    }
   ],
   "source": [
    "page"
   ]
  },
  {
   "cell_type": "code",
   "execution_count": 9,
   "id": "b27ab5d4-e926-4dfa-a384-01ed0dbafa98",
   "metadata": {},
   "outputs": [],
   "source": [
    "soup=BeautifulSoup(page.text)"
   ]
  },
  {
   "cell_type": "code",
   "execution_count": 11,
   "id": "88b4bbcc-f924-46fc-9aa8-0098f73d659d",
   "metadata": {},
   "outputs": [
    {
     "data": {
      "text/plain": [
       "[<div class=\"Nx9bqj\">₹288</div>,\n",
       " <div class=\"Nx9bqj\">₹288</div>,\n",
       " <div class=\"Nx9bqj\">₹299</div>,\n",
       " <div class=\"Nx9bqj\">₹465</div>,\n",
       " <div class=\"Nx9bqj\">₹849</div>,\n",
       " <div class=\"Nx9bqj\">₹4,495</div>,\n",
       " <div class=\"Nx9bqj\">₹1,398</div>,\n",
       " <div class=\"Nx9bqj\">₹459</div>,\n",
       " <div class=\"Nx9bqj\">₹499</div>,\n",
       " <div class=\"Nx9bqj\">₹549</div>,\n",
       " <div class=\"Nx9bqj\">₹439</div>,\n",
       " <div class=\"Nx9bqj\">₹1,359</div>,\n",
       " <div class=\"Nx9bqj\">₹389</div>,\n",
       " <div class=\"Nx9bqj\">₹275</div>,\n",
       " <div class=\"Nx9bqj\">₹785</div>,\n",
       " <div class=\"Nx9bqj\">₹649</div>,\n",
       " <div class=\"Nx9bqj\">₹329</div>,\n",
       " <div class=\"Nx9bqj\">₹1,099</div>,\n",
       " <div class=\"Nx9bqj\">₹678</div>,\n",
       " <div class=\"Nx9bqj\">₹619</div>,\n",
       " <div class=\"Nx9bqj\">₹4,495</div>,\n",
       " <div class=\"Nx9bqj\">₹4,495</div>,\n",
       " <div class=\"Nx9bqj\">₹549</div>,\n",
       " <div class=\"Nx9bqj\">₹1,599</div>,\n",
       " <div class=\"Nx9bqj\">₹849</div>,\n",
       " <div class=\"Nx9bqj\">₹459</div>,\n",
       " <div class=\"Nx9bqj\">₹391</div>,\n",
       " <div class=\"Nx9bqj\">₹899</div>,\n",
       " <div class=\"Nx9bqj\">₹626</div>,\n",
       " <div class=\"Nx9bqj\">₹785</div>,\n",
       " <div class=\"Nx9bqj\">₹339</div>,\n",
       " <div class=\"Nx9bqj\">₹339</div>,\n",
       " <div class=\"Nx9bqj\">₹499</div>,\n",
       " <div class=\"Nx9bqj\">₹599</div>,\n",
       " <div class=\"Nx9bqj\">₹1,338</div>,\n",
       " <div class=\"Nx9bqj\">₹300</div>,\n",
       " <div class=\"Nx9bqj\">₹789</div>,\n",
       " <div class=\"Nx9bqj\">₹450</div>,\n",
       " <div class=\"Nx9bqj\">₹1,019</div>,\n",
       " <div class=\"Nx9bqj\">₹719</div>,\n",
       " <div class=\"Nx9bqj OQ4U3k\">₹599</div>,\n",
       " <div class=\"Nx9bqj OQ4U3k\">₹4,495</div>,\n",
       " <div class=\"Nx9bqj OQ4U3k\">₹789</div>,\n",
       " <div class=\"Nx9bqj OQ4U3k\">₹288</div>,\n",
       " <div class=\"Nx9bqj OQ4U3k\">₹626</div>]"
      ]
     },
     "execution_count": 11,
     "metadata": {},
     "output_type": "execute_result"
    }
   ],
   "source": [
    "soup.find_all(\"div\",class_=\"Nx9bqj\")"
   ]
  },
  {
   "cell_type": "code",
   "execution_count": 13,
   "id": "62c3a2ee-6c8a-406b-98a5-1a4304993f17",
   "metadata": {},
   "outputs": [
    {
     "data": {
      "text/plain": [
       "45"
      ]
     },
     "execution_count": 13,
     "metadata": {},
     "output_type": "execute_result"
    }
   ],
   "source": [
    "len(soup.find_all(\"div\",class_=\"Nx9bqj\"))"
   ]
  },
  {
   "cell_type": "code",
   "execution_count": 15,
   "id": "541939d8-1f8c-4680-b0bf-de5486aad43b",
   "metadata": {},
   "outputs": [],
   "source": [
    "prices=[]\n",
    "p = soup.find_all(\"div\", class_=\"Nx9bqj\")\n",
    "for i in p:\n",
    "    prices.append(i.text)"
   ]
  },
  {
   "cell_type": "code",
   "execution_count": 17,
   "id": "667205c3-5290-45c1-8745-019e2b358d8d",
   "metadata": {},
   "outputs": [
    {
     "data": {
      "text/plain": [
       "['₹288',\n",
       " '₹288',\n",
       " '₹299',\n",
       " '₹465',\n",
       " '₹849',\n",
       " '₹4,495',\n",
       " '₹1,398',\n",
       " '₹459',\n",
       " '₹499',\n",
       " '₹549',\n",
       " '₹439',\n",
       " '₹1,359',\n",
       " '₹389',\n",
       " '₹275',\n",
       " '₹785',\n",
       " '₹649',\n",
       " '₹329',\n",
       " '₹1,099',\n",
       " '₹678',\n",
       " '₹619',\n",
       " '₹4,495',\n",
       " '₹4,495',\n",
       " '₹549',\n",
       " '₹1,599',\n",
       " '₹849',\n",
       " '₹459',\n",
       " '₹391',\n",
       " '₹899',\n",
       " '₹626',\n",
       " '₹785',\n",
       " '₹339',\n",
       " '₹339',\n",
       " '₹499',\n",
       " '₹599',\n",
       " '₹1,338',\n",
       " '₹300',\n",
       " '₹789',\n",
       " '₹450',\n",
       " '₹1,019',\n",
       " '₹719',\n",
       " '₹599',\n",
       " '₹4,495',\n",
       " '₹789',\n",
       " '₹288',\n",
       " '₹626']"
      ]
     },
     "execution_count": 17,
     "metadata": {},
     "output_type": "execute_result"
    }
   ],
   "source": [
    "prices"
   ]
  },
  {
   "cell_type": "code",
   "execution_count": 19,
   "id": "ca0bd31c-6848-4a3d-9d9b-b999b89db242",
   "metadata": {},
   "outputs": [
    {
     "data": {
      "text/plain": [
       "[<div class=\"syl9yP\">Fast Fashion</div>,\n",
       " <div class=\"syl9yP\">Fast Fashion</div>,\n",
       " <div class=\"syl9yP\">HP</div>,\n",
       " <div class=\"syl9yP\">MICXO</div>,\n",
       " <div class=\"syl9yP\">SamSaras</div>,\n",
       " <div class=\"syl9yP\">Urban Jungle</div>,\n",
       " <div class=\"syl9yP\">APNEK</div>,\n",
       " <div class=\"syl9yP\">SAFARI</div>,\n",
       " <div class=\"syl9yP\">PROVOGUE</div>,\n",
       " <div class=\"syl9yP\">WROGN</div>,\n",
       " <div class=\"syl9yP\">Fast Fashion</div>,\n",
       " <div class=\"syl9yP\">NASHER MILES</div>,\n",
       " <div class=\"syl9yP\">ONEGO</div>,\n",
       " <div class=\"syl9yP\">Straplt</div>,\n",
       " <div class=\"syl9yP\">APNEK</div>,\n",
       " <div class=\"syl9yP\">ARISTOCRAT</div>,\n",
       " <div class=\"syl9yP\">SBCOLLECTION</div>,\n",
       " <div class=\"syl9yP\">AMERICAN TOURISTER</div>,\n",
       " <div class=\"syl9yP\">WESLEY</div>,\n",
       " <div class=\"syl9yP\">SAFARI</div>,\n",
       " <div class=\"syl9yP\">Urban Jungle</div>,\n",
       " <div class=\"syl9yP\">Urban Jungle</div>,\n",
       " <div class=\"syl9yP\">WROGN</div>,\n",
       " <div class=\"syl9yP\">TOMMY HILFIGER</div>,\n",
       " <div class=\"syl9yP\">SamSaras</div>,\n",
       " <div class=\"syl9yP\">SAFARI</div>,\n",
       " <div class=\"syl9yP\">markway</div>,\n",
       " <div class=\"syl9yP\">Gear</div>,\n",
       " <div class=\"syl9yP\">IMPULSE</div>,\n",
       " <div class=\"syl9yP\">APNEK</div>,\n",
       " <div class=\"syl9yP\">SBCOLLECTION</div>,\n",
       " <div class=\"syl9yP\">SBCOLLECTION</div>,\n",
       " <div class=\"syl9yP\">PROVOGUE</div>,\n",
       " <div class=\"syl9yP\">PROVOGUE</div>,\n",
       " <div class=\"syl9yP\">APNEK</div>,\n",
       " <div class=\"syl9yP\">Alifiya</div>,\n",
       " <div class=\"syl9yP\">Gear</div>,\n",
       " <div class=\"syl9yP\">PLEXY</div>,\n",
       " <div class=\"syl9yP\">Wildcraft</div>,\n",
       " <div class=\"syl9yP\">F GEAR</div>]"
      ]
     },
     "execution_count": 19,
     "metadata": {},
     "output_type": "execute_result"
    }
   ],
   "source": [
    "soup.find_all(\"div\",class_=\"syl9yP\")"
   ]
  },
  {
   "cell_type": "code",
   "execution_count": 21,
   "id": "b3288751-d04d-4a31-b06b-cccc8879586c",
   "metadata": {},
   "outputs": [],
   "source": [
    "brands=[]\n",
    "b = soup.find_all(\"div\",class_=\"syl9yP\")\n",
    "for i in b:\n",
    "        brands.append(i.text.split()[0])  # Extract brand"
   ]
  },
  {
   "cell_type": "code",
   "execution_count": 23,
   "id": "c4e2fb59-0269-46fa-9236-44ff9d3398be",
   "metadata": {},
   "outputs": [
    {
     "data": {
      "text/plain": [
       "['Fast',\n",
       " 'Fast',\n",
       " 'HP',\n",
       " 'MICXO',\n",
       " 'SamSaras',\n",
       " 'Urban',\n",
       " 'APNEK',\n",
       " 'SAFARI',\n",
       " 'PROVOGUE',\n",
       " 'WROGN',\n",
       " 'Fast',\n",
       " 'NASHER',\n",
       " 'ONEGO',\n",
       " 'Straplt',\n",
       " 'APNEK',\n",
       " 'ARISTOCRAT',\n",
       " 'SBCOLLECTION',\n",
       " 'AMERICAN',\n",
       " 'WESLEY',\n",
       " 'SAFARI',\n",
       " 'Urban',\n",
       " 'Urban',\n",
       " 'WROGN',\n",
       " 'TOMMY',\n",
       " 'SamSaras',\n",
       " 'SAFARI',\n",
       " 'markway',\n",
       " 'Gear',\n",
       " 'IMPULSE',\n",
       " 'APNEK',\n",
       " 'SBCOLLECTION',\n",
       " 'SBCOLLECTION',\n",
       " 'PROVOGUE',\n",
       " 'PROVOGUE',\n",
       " 'APNEK',\n",
       " 'Alifiya',\n",
       " 'Gear',\n",
       " 'PLEXY',\n",
       " 'Wildcraft',\n",
       " 'F']"
      ]
     },
     "execution_count": 23,
     "metadata": {},
     "output_type": "execute_result"
    }
   ],
   "source": [
    "brands"
   ]
  },
  {
   "cell_type": "code",
   "execution_count": 25,
   "id": "465447bf-9c10-4a34-a090-1f975aed7859",
   "metadata": {},
   "outputs": [
    {
     "data": {
      "text/plain": [
       "40"
      ]
     },
     "execution_count": 25,
     "metadata": {},
     "output_type": "execute_result"
    }
   ],
   "source": [
    "len(brands)"
   ]
  },
  {
   "cell_type": "code",
   "execution_count": 27,
   "id": "af7c1575-f374-4b54-b7a0-08de034b174e",
   "metadata": {},
   "outputs": [
    {
     "data": {
      "text/plain": [
       "[<a class=\"WKTcLC BwBZTg\" href=\"/fast-fashion-bagpack-school-college-travel-office-bag-30-l-laptop-backpack/p/itmab0f974a5c2b8?pid=BKPGCYEFKEYZUMKC&amp;lid=LSTBKPGCYEFKEYZUMKCIFME9D&amp;marketplace=FLIPKART&amp;q=laptop+bags&amp;store=reh%2F4d7%2Fx9i&amp;srno=s_1_1&amp;otracker=search&amp;otracker1=search&amp;fm=organic&amp;iid=en_qNXwztA32_ZxI_k65FXtab6jn0_1dvG80umoRixIwHfnWgw9RX3wXnclZ_UqwfjXM3ZhtCgnOiHkWhBC-i7R7w%3D%3D&amp;ppt=None&amp;ppn=None&amp;ssid=wthjlb1hlc0000001738933472730&amp;qH=ce6521c61c07bb1d\" rel=\"noopener noreferrer\" target=\"_blank\" title=\"Medium 30 L Laptop Backpack Bagpack school college, travel, office bag\">Medium 30 L Laptop Backpack Bagpack school college, tra...</a>,\n",
       " <a class=\"WKTcLC BwBZTg\" href=\"/fast-fashion-30l-laptop-backpack-medium-bagpack-school-college-travel-bag-office-30-l/p/itmfda7229c18a91?pid=BKPGCYEFERKUH9ZJ&amp;lid=LSTBKPGCYEFERKUH9ZJXVFIFT&amp;marketplace=FLIPKART&amp;q=laptop+bags&amp;store=reh%2F4d7%2Fx9i&amp;srno=s_1_2&amp;otracker=search&amp;otracker1=search&amp;fm=organic&amp;iid=en_qNXwztA32_ZxI_k65FXtab6jn0_1dvG80umoRixIwHc1KNXSnVHsPYNAMGkKKtwB4cg13nXHBlrSU4sLkZbfAw%3D%3D&amp;ppt=None&amp;ppn=None&amp;ssid=wthjlb1hlc0000001738933472730&amp;qH=ce6521c61c07bb1d\" rel=\"noopener noreferrer\" target=\"_blank\" title=\"Medium 30 L Laptop Backpack 30L Laptop Backpack Medium Bagpack school college laptop travel bag office bag\">Medium 30 L Laptop Backpack 30L Laptop Backpack Medium ...</a>,\n",
       " <a class=\"WKTcLC\" href=\"/hp-most-popular-college-office-27-l-laptop-backpack/p/itmd1979f39ed41a?pid=BKPFYY7FAXHPPZNY&amp;lid=LSTBKPFYY7FAXHPPZNYTEGNZY&amp;marketplace=FLIPKART&amp;q=laptop+bags&amp;store=reh%2F4d7%2Fx9i&amp;srno=s_1_3&amp;otracker=search&amp;otracker1=search&amp;fm=organic&amp;iid=d8cb37d3-7273-4f92-9435-92ec1d1f69c8.BKPFYY7FAXHPPZNY.SEARCH&amp;ppt=None&amp;ppn=None&amp;ssid=wthjlb1hlc0000001738933472730&amp;qH=ce6521c61c07bb1d\" rel=\"noopener noreferrer\" target=\"_blank\" title=\"Medium 27 L Laptop Backpack Most popular college/office\">Medium 27 L Laptop Backpack Most popular college/office</a>,\n",
       " <a class=\"WKTcLC BwBZTg\" href=\"/micxo-laptop-backpack-classic-leather-bag-school-college-men-women-28-l/p/itm57c826a944ffe?pid=BKPH6WSXJZ2KZWCH&amp;lid=LSTBKPH6WSXJZ2KZWCH4WFYST&amp;marketplace=FLIPKART&amp;q=laptop+bags&amp;store=reh%2F4d7%2Fx9i&amp;srno=s_1_4&amp;otracker=search&amp;otracker1=search&amp;fm=organic&amp;iid=d8cb37d3-7273-4f92-9435-92ec1d1f69c8.BKPH6WSXJZ2KZWCH.SEARCH&amp;ppt=None&amp;ppn=None&amp;ssid=wthjlb1hlc0000001738933472730&amp;qH=ce6521c61c07bb1d\" rel=\"noopener noreferrer\" target=\"_blank\" title=\"Medium 28 L Laptop Backpack Laptop Backpack Classic Leather Laptop Bag For School College Men and Women\">Medium 28 L Laptop Backpack Laptop Backpack Classic Lea...</a>,\n",
       " <a class=\"WKTcLC BwBZTg\" href=\"/samsaras-unisex-water-proof-mountain-rucksack-hiking-trekking-camping-bag-1030-60-l-laptop-backpack/p/itm48bad102065be?pid=BKPH8DTATRNUJPWG&amp;lid=LSTBKPH8DTATRNUJPWGOO2YEN&amp;marketplace=FLIPKART&amp;q=laptop+bags&amp;store=reh%2F4d7%2Fx9i&amp;srno=s_1_5&amp;otracker=search&amp;otracker1=search&amp;fm=organic&amp;iid=d8cb37d3-7273-4f92-9435-92ec1d1f69c8.BKPH8DTATRNUJPWG.SEARCH&amp;ppt=None&amp;ppn=None&amp;ssid=wthjlb1hlc0000001738933472730&amp;qH=ce6521c61c07bb1d\" rel=\"noopener noreferrer\" target=\"_blank\" title=\"Large 60 L Laptop Backpack Unisex Water Proof Mountain Rucksack Hiking/Trekking/Camping Bag(1030)\">Large 60 L Laptop Backpack Unisex Water Proof Mountain ...</a>,\n",
       " <a class=\"WKTcLC\" href=\"/urban-jungle-safari-venture-25-l-laptop-backpack/p/itm048d7429f8ed7?pid=BKPGZFHTWDDXKECQ&amp;lid=LSTBKPGZFHTWDDXKECQ7L46KL&amp;marketplace=FLIPKART&amp;q=laptop+bags&amp;store=reh%2F4d7%2Fx9i&amp;srno=s_1_6&amp;otracker=search&amp;otracker1=search&amp;fm=organic&amp;iid=en_qNXwztA32_ZxI_k65FXtab6jn0_1dvG80umoRixIwHcOctZHapDCZoRsjvvruPnGNVTzzv8MYBezDGHdSQP73X3Gaq_wzx4HJysDmGalzMk%3D&amp;ppt=None&amp;ppn=None&amp;ssid=wthjlb1hlc0000001738933472730&amp;qH=ce6521c61c07bb1d\" rel=\"noopener noreferrer\" target=\"_blank\" title=\"by Safari Medium 25 L Laptop Backpack Venture\">by Safari Medium 25 L Laptop Backpack Venture</a>,\n",
       " <a class=\"WKTcLC BwBZTg\" href=\"/apnek-men-women-office-business-tracking-casual-use-1051-28-l-laptop-backpack/p/itm8380ffc5e1239?pid=BKPH8DZVZCR9ZQKW&amp;lid=LSTBKPH8DZVZCR9ZQKW1NLGOF&amp;marketplace=FLIPKART&amp;q=laptop+bags&amp;store=reh%2F4d7%2Fx9i&amp;srno=s_1_7&amp;otracker=search&amp;otracker1=search&amp;fm=organic&amp;iid=d8cb37d3-7273-4f92-9435-92ec1d1f69c8.BKPH8DZVZCR9ZQKW.SEARCH&amp;ppt=None&amp;ppn=None&amp;ssid=wthjlb1hlc0000001738933472730&amp;qH=ce6521c61c07bb1d\" rel=\"noopener noreferrer\" target=\"_blank\" title=\"Medium 28 L Laptop Backpack For Men And Women, Office, Business,Tracking Casual Use (1051)\">Medium 28 L Laptop Backpack For Men And Women, Office, ...</a>,\n",
       " <a class=\"WKTcLC\" href=\"/safari-ashper-cb-6-pockets-30-l-laptop-backpack/p/itm87a9d5a36af02?pid=BKPGH8YN3VRQF7ZH&amp;lid=LSTBKPGH8YN3VRQF7ZHZKUEPP&amp;marketplace=FLIPKART&amp;q=laptop+bags&amp;store=reh%2F4d7%2Fx9i&amp;spotlightTagId=BestsellerId_reh%2F4d7%2Fx9i&amp;srno=s_1_8&amp;otracker=search&amp;otracker1=search&amp;fm=organic&amp;iid=d8cb37d3-7273-4f92-9435-92ec1d1f69c8.BKPGH8YN3VRQF7ZH.SEARCH&amp;ppt=None&amp;ppn=None&amp;ssid=wthjlb1hlc0000001738933472730&amp;qH=ce6521c61c07bb1d\" rel=\"noopener noreferrer\" target=\"_blank\" title=\"Medium 30 L Laptop Backpack ASHPER CB With 6 Pockets\">Medium 30 L Laptop Backpack ASHPER CB With 6 Pockets</a>,\n",
       " <a class=\"WKTcLC BwBZTg\" href=\"/provogue-unisex-spacy-rain-cover-reflective-strip-35-l-laptop-backpack/p/itm67c27c7c91a54?pid=BKPFWJHMS8FUQFSW&amp;lid=LSTBKPFWJHMS8FUQFSWYOEOO0&amp;marketplace=FLIPKART&amp;q=laptop+bags&amp;store=reh%2F4d7%2Fx9i&amp;spotlightTagId=BestsellerId_reh%2F4d7%2Fx9i&amp;srno=s_1_9&amp;otracker=search&amp;otracker1=search&amp;fm=organic&amp;iid=d8cb37d3-7273-4f92-9435-92ec1d1f69c8.BKPFWJHMS8FUQFSW.SEARCH&amp;ppt=None&amp;ppn=None&amp;ssid=wthjlb1hlc0000001738933472730&amp;qH=ce6521c61c07bb1d\" rel=\"noopener noreferrer\" target=\"_blank\" title=\"Large 35 L Laptop Backpack unisex Spacy with rain cover and reflective strip\">Large 35 L Laptop Backpack unisex Spacy with rain cover...</a>,\n",
       " <a class=\"WKTcLC BwBZTg\" href=\"/wrogn-ashper-unisex-usb-port-rain-cover-40-l-laptop-backpack/p/itmc8df34df6a276?pid=BKPGMMHFKANMDYEP&amp;lid=LSTBKPGMMHFKANMDYEPW7GKOF&amp;marketplace=FLIPKART&amp;q=laptop+bags&amp;store=reh%2F4d7%2Fx9i&amp;spotlightTagId=FkPickId_reh%2F4d7%2Fx9i&amp;srno=s_1_10&amp;otracker=search&amp;otracker1=search&amp;fm=organic&amp;iid=d8cb37d3-7273-4f92-9435-92ec1d1f69c8.BKPGMMHFKANMDYEP.SEARCH&amp;ppt=None&amp;ppn=None&amp;ssid=wthjlb1hlc0000001738933472730&amp;qH=ce6521c61c07bb1d\" rel=\"noopener noreferrer\" target=\"_blank\" title=\"Large 40 L Laptop Backpack ASHPER Unisex with USB Port and Rain Cover\">Large 40 L Laptop Backpack ASHPER Unisex with USB Port ...</a>,\n",
       " <a class=\"WKTcLC\" href=\"/fast-fashion-outdoor-sport-hiking-rucksuck-travel-bag-daypack-70-l-laptop-backpack/p/itma6ba5ee0b31f4?pid=BKPGCR7EHQHGG43Q&amp;lid=LSTBKPGCR7EHQHGG43QX2ROK1&amp;marketplace=FLIPKART&amp;q=laptop+bags&amp;store=reh%2F4d7%2Fx9i&amp;srno=s_1_11&amp;otracker=search&amp;otracker1=search&amp;fm=organic&amp;iid=en_qNXwztA32_ZxI_k65FXtab6jn0_1dvG80umoRixIwHc4RZXBlKqP_xaiGQWh8KtAn71MV0Wrwf6ektONQb4Wgg%3D%3D&amp;ppt=None&amp;ppn=None&amp;ssid=wthjlb1hlc0000001738933472730&amp;qH=ce6521c61c07bb1d\" rel=\"noopener noreferrer\" target=\"_blank\" title=\"Large 70 L Laptop Backpack Outdoor Sport Hiking Rucksuck Travel Bag Daypack\">Large 70 L Laptop Backpack Outdoor Sport Hiking Rucksuc...</a>,\n",
       " <a class=\"WKTcLC BwBZTg\" href=\"/nasher-miles-staten-laptop-backpack-men-women-ideal-office-22l-olive-green-22-l/p/itmc70184cd37005?pid=BKPH6S568ZYHZBGF&amp;lid=LSTBKPH6S568ZYHZBGFYE14LE&amp;marketplace=FLIPKART&amp;q=laptop+bags&amp;store=reh%2F4d7%2Fx9i&amp;srno=s_1_12&amp;otracker=search&amp;otracker1=search&amp;fm=organic&amp;iid=en_qNXwztA32_ZxI_k65FXtab6jn0_1dvG80umoRixIwHecHJ34ZVjZXkK7zrIOY4-O6xja7vgl35np9Jy0l-uiPkhz9c-MSIoFe8xMxkfU6dM%3D&amp;ppt=None&amp;ppn=None&amp;ssid=wthjlb1hlc0000001738933472730&amp;qH=ce6521c61c07bb1d\" rel=\"noopener noreferrer\" target=\"_blank\" title=\"Medium 22 L Laptop Backpack Staten Laptop Backpack for Men &amp; Women|Ideal For Office |22L,Olive Green\">Medium 22 L Laptop Backpack Staten Laptop Backpack for ...</a>,\n",
       " <a class=\"WKTcLC\" href=\"/onego-casual-backpack-22-l-laptop/p/itm0a9abf4f7fcb5?pid=BKPFYPQGCCYAZS6Z&amp;lid=LSTBKPFYPQGCCYAZS6Z9BCRHC&amp;marketplace=FLIPKART&amp;q=laptop+bags&amp;store=reh%2F4d7%2Fx9i&amp;srno=s_1_13&amp;otracker=search&amp;otracker1=search&amp;fm=organic&amp;iid=d8cb37d3-7273-4f92-9435-92ec1d1f69c8.BKPFYPQGCCYAZS6Z.SEARCH&amp;ppt=None&amp;ppn=None&amp;ssid=wthjlb1hlc0000001738933472730&amp;qH=ce6521c61c07bb1d\" rel=\"noopener noreferrer\" target=\"_blank\" title=\"Medium 22 L Backpack Casual Backpack\">Medium 22 L Backpack Casual Backpack</a>,\n",
       " <a class=\"WKTcLC BwBZTg\" href=\"/straplt-laptop-sleeve-pouch-case-cover-15-6-16-inch-handle-waterproof-sleeve-cover/p/itmd44194ef72233?pid=BAGGHWH7ZFAZVYGX&amp;lid=LSTBAGGHWH7ZFAZVYGXR6PODO&amp;marketplace=FLIPKART&amp;q=laptop+bags&amp;store=reh%2F4d7%2Fx9i&amp;srno=s_1_14&amp;otracker=search&amp;otracker1=search&amp;fm=organic&amp;iid=d8cb37d3-7273-4f92-9435-92ec1d1f69c8.BAGGHWH7ZFAZVYGX.SEARCH&amp;ppt=None&amp;ppn=None&amp;ssid=wthjlb1hlc0000001738933472730&amp;qH=ce6521c61c07bb1d\" rel=\"noopener noreferrer\" target=\"_blank\" title=\"Laptop Sleeve With Pouch Case Cover for 15.6-16 Inch With Handle, Waterproof Laptop Sleeve/Cover\">Laptop Sleeve With Pouch Case Cover for 15.6-16 Inch Wi...</a>,\n",
       " <a class=\"WKTcLC BwBZTg\" href=\"/apnek-waterproof-laptop-bag-school-bag-college-bag-unisex-1047-20-l-backpack/p/itm67c1b2515d0ee?pid=BKPH8DZVRPHSF2TN&amp;lid=LSTBKPH8DZVRPHSF2TNUPAXN4&amp;marketplace=FLIPKART&amp;q=laptop+bags&amp;store=reh%2F4d7%2Fx9i&amp;srno=s_1_15&amp;otracker=search&amp;otracker1=search&amp;fm=organic&amp;iid=d8cb37d3-7273-4f92-9435-92ec1d1f69c8.BKPH8DZVRPHSF2TN.SEARCH&amp;ppt=None&amp;ppn=None&amp;ssid=wthjlb1hlc0000001738933472730&amp;qH=ce6521c61c07bb1d\" rel=\"noopener noreferrer\" target=\"_blank\" title=\"Small 20 L Laptop Backpack Waterproof Laptop Bag/School Bag/College Bag,Unisex(1047)\">Small 20 L Laptop Backpack Waterproof Laptop Bag/School...</a>,\n",
       " <a class=\"WKTcLC BwBZTg\" href=\"/aristocrat-crown-lp-bp-e-black-29-l-laptop-backpack/p/itm28fa3e0a51534?pid=BKPGBCRF3Z3QNCHG&amp;lid=LSTBKPGBCRF3Z3QNCHG6RQHVP&amp;marketplace=FLIPKART&amp;q=laptop+bags&amp;store=reh%2F4d7%2Fx9i&amp;srno=s_1_16&amp;otracker=search&amp;otracker1=search&amp;fm=organic&amp;iid=d8cb37d3-7273-4f92-9435-92ec1d1f69c8.BKPGBCRF3Z3QNCHG.SEARCH&amp;ppt=None&amp;ppn=None&amp;ssid=wthjlb1hlc0000001738933472730&amp;qH=ce6521c61c07bb1d\" rel=\"noopener noreferrer\" target=\"_blank\" title=\"Medium 29 L Laptop Backpack CROWN LP BP (E) BLACK\">Medium 29 L Laptop Backpack CROWN LP BP (E) BLACK</a>,\n",
       " <a class=\"WKTcLC BwBZTg\" href=\"/sbcollection-medium-30-l-backpack-school-college-laptop-bag-boys-girls/p/itm4ff4c8b69dd4c?pid=BKPGHHE4DNZPBYRU&amp;lid=LSTBKPGHHE4DNZPBYRU9BYYKU&amp;marketplace=FLIPKART&amp;q=laptop+bags&amp;store=reh%2F4d7%2Fx9i&amp;srno=s_1_17&amp;otracker=search&amp;otracker1=search&amp;fm=organic&amp;iid=en_qNXwztA32_ZxI_k65FXtab6jn0_1dvG80umoRixIwHeKVtPvjcyFYFvTnKruOBIMp3dvi8g5wE_wxf3M7hCrSA%3D%3D&amp;ppt=None&amp;ppn=None&amp;ssid=wthjlb1hlc0000001738933472730&amp;qH=ce6521c61c07bb1d\" rel=\"noopener noreferrer\" target=\"_blank\" title=\"Medium 30 L Laptop Backpack MEDIUM 30 L BACKPACK SCHOOL COLLEGE LAPTOP BAG FOR BOYS AND GIRLS\">Medium 30 L Laptop Backpack MEDIUM 30 L BACKPACK SCHOOL...</a>,\n",
       " <a class=\"WKTcLC\" href=\"/american-tourister-valex-27-5-l-laptop-backpack/p/itm2672f35baa855?pid=BKPGMU5XWHZZ2E37&amp;lid=LSTBKPGMU5XWHZZ2E37D1IYXZ&amp;marketplace=FLIPKART&amp;q=laptop+bags&amp;store=reh%2F4d7%2Fx9i&amp;srno=s_1_18&amp;otracker=search&amp;otracker1=search&amp;fm=organic&amp;iid=en_qNXwztA32_ZxI_k65FXtab6jn0_1dvG80umoRixIwHfhRm1-n-9x20gC_jAM_i3yjhwMeP1ir_ktn2XNBAvzrmVkv0XZFiOX7bbXdlao_f8%3D&amp;ppt=None&amp;ppn=None&amp;ssid=wthjlb1hlc0000001738933472730&amp;qH=ce6521c61c07bb1d\" rel=\"noopener noreferrer\" target=\"_blank\" title=\"27.5 L Laptop Backpack VALEX\">27.5 L Laptop Backpack VALEX</a>,\n",
       " <a class=\"WKTcLC\" href=\"/wesley-spartan-unisex-travel-rucksack-hiking-laptop-bag-fits-upto-17-3-inch-raincover-internal-organiser-backpack-college-45-l/p/itmb6c34af309bd7?pid=BKPG4YVYHZVMZUCH&amp;lid=LSTBKPG4YVYHZVMZUCHUJSHDT&amp;marketplace=FLIPKART&amp;q=laptop+bags&amp;store=reh%2F4d7%2Fx9i&amp;srno=s_1_19&amp;otracker=search&amp;otracker1=search&amp;fm=organic&amp;iid=d8cb37d3-7273-4f92-9435-92ec1d1f69c8.BKPG4YVYHZVMZUCH.SEARCH&amp;ppt=None&amp;ppn=None&amp;ssid=wthjlb1hlc0000001738933472730&amp;qH=ce6521c61c07bb1d\" rel=\"noopener noreferrer\" target=\"_blank\" title=\"Large 45 L Laptop Backpack Spartan Unisex Travel Rucksack hiking laptop bag fits upto 17.3 inch with Raincover and internal organiser backpack Rucksack College bag Laptop Backpack\">Large 45 L Laptop Backpack Spartan Unisex Travel Rucksa...</a>,\n",
       " <a class=\"WKTcLC\" href=\"/safari-ashper-pro-35-l-laptop-backpack/p/itme09b2cec2d07a?pid=BKPH3SBHBKYSZUNC&amp;lid=LSTBKPH3SBHBKYSZUNCJA0PGJ&amp;marketplace=FLIPKART&amp;q=laptop+bags&amp;store=reh%2F4d7%2Fx9i&amp;srno=s_1_20&amp;otracker=search&amp;otracker1=search&amp;fm=organic&amp;iid=d8cb37d3-7273-4f92-9435-92ec1d1f69c8.BKPH3SBHBKYSZUNC.SEARCH&amp;ppt=None&amp;ppn=None&amp;ssid=wthjlb1hlc0000001738933472730&amp;qH=ce6521c61c07bb1d\" rel=\"noopener noreferrer\" target=\"_blank\" title=\"Large 35 L Laptop Backpack Ashper Pro\">Large 35 L Laptop Backpack Ashper Pro</a>,\n",
       " <a class=\"WKTcLC BwBZTg\" href=\"/urban-jungle-roam-22-l-laptop-backpack/p/itm04bf4075697bf?pid=BKPH3WRFHGZTMRYF&amp;lid=LSTBKPH3WRFHGZTMRYFQPJVWL&amp;marketplace=FLIPKART&amp;q=laptop+bags&amp;store=reh%2F4d7%2Fx9i&amp;srno=s_1_21&amp;otracker=search&amp;otracker1=search&amp;fm=organic&amp;iid=en_qNXwztA32_ZxI_k65FXtab6jn0_1dvG80umoRixIwHceWofgL8tQK1I6UkV5xEnbFLCpCz1UnZ84Dmx1EbiS28DbPjpExlWhmpgUQnOg2ao%3D&amp;ppt=None&amp;ppn=None&amp;ssid=wthjlb1hlc0000001738933472730&amp;qH=ce6521c61c07bb1d\" rel=\"noopener noreferrer\" target=\"_blank\" title=\"Medium 22 L Laptop Backpack Roam\">Medium 22 L Laptop Backpack Roam</a>,\n",
       " <a class=\"WKTcLC\" href=\"/urban-jungle-safari-venture-25-l-laptop-backpack/p/itm72c13bdb3f578?pid=BKPGZFHQPGCTTHA2&amp;lid=LSTBKPGZFHQPGCTTHA2442HGZ&amp;marketplace=FLIPKART&amp;q=laptop+bags&amp;store=reh%2F4d7%2Fx9i&amp;srno=s_1_22&amp;otracker=search&amp;otracker1=search&amp;fm=organic&amp;iid=en_qNXwztA32_ZxI_k65FXtab6jn0_1dvG80umoRixIwHcb5nzscfhcp84tDCRdapIK8PbEIwsIuex5qZVFXcfwvWJMZAJirnjvZRqZ0WhE16A%3D&amp;ppt=None&amp;ppn=None&amp;ssid=wthjlb1hlc0000001738933472730&amp;qH=ce6521c61c07bb1d\" rel=\"noopener noreferrer\" target=\"_blank\" title=\"by Safari Medium 25 L Laptop Backpack Venture\">by Safari Medium 25 L Laptop Backpack Venture</a>,\n",
       " <a class=\"WKTcLC BwBZTg\" href=\"/wrogn-port-rain-cover-40-l-laptop-backpack/p/itm05039299dc32c?pid=BKPGMMHFZSXF4UUM&amp;lid=LSTBKPGMMHFZSXF4UUMO6UR2E&amp;marketplace=FLIPKART&amp;q=laptop+bags&amp;store=reh%2F4d7%2Fx9i&amp;srno=s_1_23&amp;otracker=search&amp;otracker1=search&amp;fm=organic&amp;iid=d8cb37d3-7273-4f92-9435-92ec1d1f69c8.BKPGMMHFZSXF4UUM.SEARCH&amp;ppt=None&amp;ppn=None&amp;ssid=wthjlb1hlc0000001738933472730&amp;qH=ce6521c61c07bb1d\" rel=\"noopener noreferrer\" target=\"_blank\" title=\"Large 40 L Laptop Backpack with Port and Rain Cover\">Large 40 L Laptop Backpack with Port and Rain Cover</a>,\n",
       " <a class=\"WKTcLC\" href=\"/tommy-hilfiger-joshua-30-l-laptop-backpack/p/itmfegb9wcjudfza?pid=BKPFEGB9BCZUVYAZ&amp;lid=LSTBKPFEGB9BCZUVYAZ0VGV0N&amp;marketplace=FLIPKART&amp;q=laptop+bags&amp;store=reh%2F4d7%2Fx9i&amp;srno=s_1_24&amp;otracker=search&amp;otracker1=search&amp;fm=organic&amp;iid=d8cb37d3-7273-4f92-9435-92ec1d1f69c8.BKPFEGB9BCZUVYAZ.SEARCH&amp;ppt=None&amp;ppn=None&amp;ssid=wthjlb1hlc0000001738933472730&amp;qH=ce6521c61c07bb1d\" rel=\"noopener noreferrer\" target=\"_blank\" title=\"Medium 30 L Backpack Joshua\">Medium 30 L Backpack Joshua</a>,\n",
       " <a class=\"WKTcLC BwBZTg\" href=\"/samsaras-office-business-travel-college-casual-bag-men-women-1032-22-l-laptop-backpack/p/itm4f47ddfa956bf?pid=BKPH8DTA4TWBYYS9&amp;lid=LSTBKPH8DTA4TWBYYS9AOBAAL&amp;marketplace=FLIPKART&amp;q=laptop+bags&amp;store=reh%2F4d7%2Fx9i&amp;srno=s_1_25&amp;otracker=search&amp;otracker1=search&amp;fm=organic&amp;iid=d8cb37d3-7273-4f92-9435-92ec1d1f69c8.BKPH8DTA4TWBYYS9.SEARCH&amp;ppt=None&amp;ppn=None&amp;ssid=wthjlb1hlc0000001738933472730&amp;qH=ce6521c61c07bb1d\" rel=\"noopener noreferrer\" target=\"_blank\" title=\"Medium 22 L Laptop Backpack For Office/Business/Travel/College, Casual Bag For Men And Women(1032)\">Medium 22 L Laptop Backpack For Office/Business/Travel/...</a>,\n",
       " <a class=\"WKTcLC\" href=\"/safari-ashper-cb-6-pockets-30-l-laptop-backpack/p/itm96ea30de5e4bf?pid=BKPGH8YNPHFQKKDZ&amp;lid=LSTBKPGH8YNPHFQKKDZWYTYUL&amp;marketplace=FLIPKART&amp;q=laptop+bags&amp;store=reh%2F4d7%2Fx9i&amp;srno=s_1_26&amp;otracker=search&amp;otracker1=search&amp;fm=organic&amp;iid=d8cb37d3-7273-4f92-9435-92ec1d1f69c8.BKPGH8YNPHFQKKDZ.SEARCH&amp;ppt=None&amp;ppn=None&amp;ssid=wthjlb1hlc0000001738933472730&amp;qH=ce6521c61c07bb1d\" rel=\"noopener noreferrer\" target=\"_blank\" title=\"Medium 30 L Laptop Backpack ASHPER CB With 6 Pockets\">Medium 30 L Laptop Backpack ASHPER CB With 6 Pockets</a>,\n",
       " <a class=\"WKTcLC BwBZTg\" href=\"/markway-dc-unisex-heavu-duty-light-weight-backpack-35-l-laptop/p/itma962bcc378ee3?pid=BKPH32PQ4JYX7FJC&amp;lid=LSTBKPH32PQ4JYX7FJCWFAPGR&amp;marketplace=FLIPKART&amp;q=laptop+bags&amp;store=reh%2F4d7%2Fx9i&amp;srno=s_1_27&amp;otracker=search&amp;otracker1=search&amp;fm=organic&amp;iid=en_qNXwztA32_ZxI_k65FXtab6jn0_1dvG80umoRixIwHeXWRsJid7VodT-XMyV3dAh_CozY7frMseXffAwhaFteQ%3D%3D&amp;ppt=None&amp;ppn=None&amp;ssid=wthjlb1hlc0000001738933472730&amp;qH=ce6521c61c07bb1d\" rel=\"noopener noreferrer\" target=\"_blank\" title=\"Large 35 L Laptop Backpack DC Unisex with HEAVU DUTY LIGHT WEIGHT BACKPACK\">Large 35 L Laptop Backpack DC Unisex with HEAVU DUTY LI...</a>,\n",
       " <a class=\"WKTcLC BwBZTg\" href=\"/gear-classic-anti-theft-faux-leather-31-l-laptop-backpack/p/itm3726d8e0dc933?pid=BKPHF4KGACMZRADS&amp;lid=LSTBKPHF4KGACMZRADSYNWATO&amp;marketplace=FLIPKART&amp;q=laptop+bags&amp;store=reh%2F4d7%2Fx9i&amp;srno=s_1_28&amp;otracker=search&amp;otracker1=search&amp;fm=organic&amp;iid=en_qNXwztA32_ZxI_k65FXtab6jn0_1dvG80umoRixIwHesP3en98AjtKqB_RCkpuH86EB-qks2Xn3j7CW2yVjzaYQEIsITtCzc4bHaOMTqL08%3D&amp;ppt=None&amp;ppn=None&amp;ssid=wthjlb1hlc0000001738933472730&amp;qH=ce6521c61c07bb1d\" rel=\"noopener noreferrer\" target=\"_blank\" title=\"Large 31 L Laptop Backpack Classic Anti Theft Faux Leather\">Large 31 L Laptop Backpack Classic Anti Theft Faux Leat...</a>,\n",
       " <a class=\"WKTcLC BwBZTg\" href=\"/impulse-30-l-laptop-backpack-elite-v2-16-inch-usb-charging/p/itm65410f962048d?pid=BKPH33PGFYABPHAK&amp;lid=LSTBKPH33PGFYABPHAKQ7MFJI&amp;marketplace=FLIPKART&amp;q=laptop+bags&amp;store=reh%2F4d7%2Fx9i&amp;srno=s_1_29&amp;otracker=search&amp;otracker1=search&amp;fm=organic&amp;iid=d8cb37d3-7273-4f92-9435-92ec1d1f69c8.BKPH33PGFYABPHAK.SEARCH&amp;ppt=None&amp;ppn=None&amp;ssid=wthjlb1hlc0000001738933472730&amp;qH=ce6521c61c07bb1d\" rel=\"noopener noreferrer\" target=\"_blank\" title=\"Medium 30 L Laptop Backpack 30 L Laptop Backpack Elite V2 16 Inch Laptop Backpack with USB Charging\">Medium 30 L Laptop Backpack 30 L Laptop Backpack Elite ...</a>,\n",
       " <a class=\"WKTcLC BwBZTg\" href=\"/apnek-men-women-business-use-laptop-bag-daypack-1037-18-l-backpack/p/itm62114eaa2e2a3?pid=BKPH8DZUGFWZZZ3G&amp;lid=LSTBKPH8DZUGFWZZZ3GJ5DFSZ&amp;marketplace=FLIPKART&amp;q=laptop+bags&amp;store=reh%2F4d7%2Fx9i&amp;srno=s_1_30&amp;otracker=search&amp;otracker1=search&amp;fm=organic&amp;iid=d8cb37d3-7273-4f92-9435-92ec1d1f69c8.BKPH8DZUGFWZZZ3G.SEARCH&amp;ppt=None&amp;ppn=None&amp;ssid=wthjlb1hlc0000001738933472730&amp;qH=ce6521c61c07bb1d\" rel=\"noopener noreferrer\" target=\"_blank\" title=\"Small 18 L Backpack For Men &amp; Women,Business Use, Laptop Bag ,Daypack(1037)\">Small 18 L Backpack For Men &amp; Women,Business Use, Lapto...</a>,\n",
       " <a class=\"WKTcLC BwBZTg\" href=\"/sbcollection-30l-medium-tri-color-grey-green-laptop-backpack-unisex-college-school-bags-30-l/p/itm33767d48bfdcb?pid=BKPGGGGAHNBDESSV&amp;lid=LSTBKPGGGGAHNBDESSV8YRQZW&amp;marketplace=FLIPKART&amp;q=laptop+bags&amp;store=reh%2F4d7%2Fx9i&amp;srno=s_1_31&amp;otracker=search&amp;otracker1=search&amp;fm=organic&amp;iid=en_qNXwztA32_ZxI_k65FXtab6jn0_1dvG80umoRixIwHcF1D86SfJhNIBrEVnLMU7Qjh3VwQwIG2mKTFZ19cNLCQ%3D%3D&amp;ppt=None&amp;ppn=None&amp;ssid=wthjlb1hlc0000001738933472730&amp;qH=ce6521c61c07bb1d\" rel=\"noopener noreferrer\" target=\"_blank\" title=\"Medium 30 L Laptop Backpack 30L Medium TRI-color Grey GREEN Laptop Backpack Unisex College &amp; School Bags\">Medium 30 L Laptop Backpack 30L Medium TRI-color Grey G...</a>,\n",
       " <a class=\"WKTcLC BwBZTg\" href=\"/sbcollection-water-resistance-fabric-suitable-higher-grade-school-college-office-bags-30-l-laptop-backpack/p/itmd51e9347d77d8?pid=BKPGM5XMFUEJBHAN&amp;lid=LSTBKPGM5XMFUEJBHANZTUE1S&amp;marketplace=FLIPKART&amp;q=laptop+bags&amp;store=reh%2F4d7%2Fx9i&amp;srno=s_1_32&amp;otracker=search&amp;otracker1=search&amp;fm=organic&amp;iid=en_qNXwztA32_ZxI_k65FXtab6jn0_1dvG80umoRixIwHeTAsW2zVsIbKw089fhQTU0NFpOLRoUIY-SdFB9AK8pLg%3D%3D&amp;ppt=None&amp;ppn=None&amp;ssid=wthjlb1hlc0000001738933472730&amp;qH=ce6521c61c07bb1d\" rel=\"noopener noreferrer\" target=\"_blank\" title=\"Medium 30 L Laptop Backpack Water Resistance fabric Suitable for Higher Grade School /College / Office Bags.\">Medium 30 L Laptop Backpack Water Resistance fabric Sui...</a>,\n",
       " <a class=\"WKTcLC BwBZTg\" href=\"/provogue-spacy-unisex-rain-cover-reflective-strip-35-l-laptop-backpack/p/itm6e951d895434e?pid=BKPG5DDKPZJPHZWG&amp;lid=LSTBKPG5DDKPZJPHZWGPCG7P9&amp;marketplace=FLIPKART&amp;q=laptop+bags&amp;store=reh%2F4d7%2Fx9i&amp;srno=s_1_33&amp;otracker=search&amp;otracker1=search&amp;fm=organic&amp;iid=d8cb37d3-7273-4f92-9435-92ec1d1f69c8.BKPG5DDKPZJPHZWG.SEARCH&amp;ppt=None&amp;ppn=None&amp;ssid=wthjlb1hlc0000001738933472730&amp;qH=ce6521c61c07bb1d\" rel=\"noopener noreferrer\" target=\"_blank\" title=\"Large 35 L Laptop Backpack Spacy unisex with rain cover and reflective strip\">Large 35 L Laptop Backpack Spacy unisex with rain cover...</a>,\n",
       " <a class=\"WKTcLC BwBZTg\" href=\"/provogue-casual-self-design-rain-cover-38-l-laptop-backpack/p/itmf1587c375e672?pid=BKPGBNURFJKHZ6V8&amp;lid=LSTBKPGBNURFJKHZ6V86AF4IH&amp;marketplace=FLIPKART&amp;q=laptop+bags&amp;store=reh%2F4d7%2Fx9i&amp;srno=s_1_34&amp;otracker=search&amp;otracker1=search&amp;fm=organic&amp;iid=d8cb37d3-7273-4f92-9435-92ec1d1f69c8.BKPGBNURFJKHZ6V8.SEARCH&amp;ppt=None&amp;ppn=None&amp;ssid=wthjlb1hlc0000001738933472730&amp;qH=ce6521c61c07bb1d\" rel=\"noopener noreferrer\" target=\"_blank\" title=\"Large 38 L Laptop Backpack Casual Self Design with Rain cover\">Large 38 L Laptop Backpack Casual Self Design with Rain...</a>,\n",
       " <a class=\"WKTcLC BwBZTg\" href=\"/apnek-everyday-backpack-ultra-heavy-women-men-1038-35-l-laptop/p/itm2206e099cf217?pid=BKPH8DZU465TEWRX&amp;lid=LSTBKPH8DZU465TEWRXNA8MJ2&amp;marketplace=FLIPKART&amp;q=laptop+bags&amp;store=reh%2F4d7%2Fx9i&amp;srno=s_1_35&amp;otracker=search&amp;otracker1=search&amp;fm=organic&amp;iid=d8cb37d3-7273-4f92-9435-92ec1d1f69c8.BKPH8DZU465TEWRX.SEARCH&amp;ppt=None&amp;ppn=None&amp;ssid=wthjlb1hlc0000001738933472730&amp;qH=ce6521c61c07bb1d\" rel=\"noopener noreferrer\" target=\"_blank\" title=\"Large 35 L Laptop Backpack Everyday Backpack ,Ultra Heavy Backpack for Women and Men(1038)\">Large 35 L Laptop Backpack Everyday Backpack ,Ultra Hea...</a>,\n",
       " <a class=\"WKTcLC\" href=\"/alifiya-15-6-inch-laptop-sleeve-slip-case-cover-bag-handle-l22-grey-sleeve-cover/p/itm2df8a6ec6d5d0?pid=BAGGAXJ4WHKKN57Q&amp;lid=LSTBAGGAXJ4WHKKN57QYAFF5P&amp;marketplace=FLIPKART&amp;q=laptop+bags&amp;store=reh%2F4d7%2Fx9i&amp;srno=s_1_36&amp;otracker=search&amp;otracker1=search&amp;fm=organic&amp;iid=d8cb37d3-7273-4f92-9435-92ec1d1f69c8.BAGGAXJ4WHKKN57Q.SEARCH&amp;ppt=None&amp;ppn=None&amp;ssid=wthjlb1hlc0000001738933472730&amp;qH=ce6521c61c07bb1d\" rel=\"noopener noreferrer\" target=\"_blank\" title=\"15.6 Inch Laptop Sleeve / Slip Case Cover Bag With Handle (L22_Grey) Laptop Sleeve/Cover\">15.6 Inch Laptop Sleeve / Slip Case Cover Bag With Hand...</a>,\n",
       " <a class=\"WKTcLC\" href=\"/gear-vintage-2-anti-theft-faux-leather-31-l-laptop-backpack/p/itmd11380922bde4?pid=BKPHF4MS4RWJMAPE&amp;lid=LSTBKPHF4MS4RWJMAPEUNYPLJ&amp;marketplace=FLIPKART&amp;q=laptop+bags&amp;store=reh%2F4d7%2Fx9i&amp;srno=s_1_37&amp;otracker=search&amp;otracker1=search&amp;fm=organic&amp;iid=en_qNXwztA32_ZxI_k65FXtab6jn0_1dvG80umoRixIwHfiHabb_IUoERUV16n8yt3ZxXZz3uz8Xr_S-KKxZy4VCb3nN5BP0oUQf7sdSRT1im4%3D&amp;ppt=None&amp;ppn=None&amp;ssid=wthjlb1hlc0000001738933472730&amp;qH=ce6521c61c07bb1d\" rel=\"noopener noreferrer\" target=\"_blank\" title=\"Large 31 L Laptop Backpack Vintage 2 Anti Theft Faux Leather\">Large 31 L Laptop Backpack Vintage 2 Anti Theft Faux Le...</a>,\n",
       " <a class=\"WKTcLC BwBZTg\" href=\"/plexy-unisex-water-proof-mountain-rucksackhiking-trekking-camping-bag-60-l-laptop-backpack/p/itmdaf069a77e7fc?pid=BKPHF5QYMTEPRFZG&amp;lid=LSTBKPHF5QYMTEPRFZGVVMBAL&amp;marketplace=FLIPKART&amp;q=laptop+bags&amp;store=reh%2F4d7%2Fx9i&amp;srno=s_1_38&amp;otracker=search&amp;otracker1=search&amp;fm=organic&amp;iid=en_qNXwztA32_ZxI_k65FXtab6jn0_1dvG80umoRixIwHcZDcqgtePUTYvJh4hj8vj5ONa7YHjLQtTVO-LNBVRmvw%3D%3D&amp;ppt=None&amp;ppn=None&amp;ssid=wthjlb1hlc0000001738933472730&amp;qH=ce6521c61c07bb1d\" rel=\"noopener noreferrer\" target=\"_blank\" title=\"Large 60 L Laptop Backpack UNISEX Water Proof Mountain RucksackHiking/Trekking/Camping Bag\">Large 60 L Laptop Backpack UNISEX Water Proof Mountain ...</a>,\n",
       " <a class=\"WKTcLC\" href=\"/wildcraft-daredevil-43-l-laptop-backpack/p/itmfejkcgrbkzfcr?pid=BKPFEJKC9EPKBMZG&amp;lid=LSTBKPFEJKC9EPKBMZGTBKM0L&amp;marketplace=FLIPKART&amp;q=laptop+bags&amp;store=reh%2F4d7%2Fx9i&amp;srno=s_1_39&amp;otracker=search&amp;otracker1=search&amp;fm=organic&amp;iid=d8cb37d3-7273-4f92-9435-92ec1d1f69c8.BKPFEJKC9EPKBMZG.SEARCH&amp;ppt=None&amp;ppn=None&amp;ssid=wthjlb1hlc0000001738933472730&amp;qH=ce6521c61c07bb1d\" rel=\"noopener noreferrer\" target=\"_blank\" title=\"Large 43 L Laptop Backpack Daredevil\">Large 43 L Laptop Backpack Daredevil</a>,\n",
       " <a class=\"WKTcLC\" href=\"/f-gear-luxur-25-l-laptop-backpack/p/itm5e20ee0a4ff56?pid=BKPEGGASKQWQHYRN&amp;lid=LSTBKPEGGASKQWQHYRNLTDKON&amp;marketplace=FLIPKART&amp;q=laptop+bags&amp;store=reh%2F4d7%2Fx9i&amp;srno=s_1_40&amp;otracker=search&amp;otracker1=search&amp;fm=organic&amp;iid=d8cb37d3-7273-4f92-9435-92ec1d1f69c8.BKPEGGASKQWQHYRN.SEARCH&amp;ppt=None&amp;ppn=None&amp;ssid=wthjlb1hlc0000001738933472730&amp;qH=ce6521c61c07bb1d\" rel=\"noopener noreferrer\" target=\"_blank\" title=\"Medium 25 L Laptop Backpack Luxur\">Medium 25 L Laptop Backpack Luxur</a>]"
      ]
     },
     "execution_count": 27,
     "metadata": {},
     "output_type": "execute_result"
    }
   ],
   "source": [
    "soup.find_all(\"a\",class_=\"WKTcLC\")"
   ]
  },
  {
   "cell_type": "code",
   "execution_count": 29,
   "id": "22674218-9b7c-4b56-b72d-20ca7aa627ab",
   "metadata": {},
   "outputs": [],
   "source": [
    "models=[]\n",
    "b= soup.find_all(\"a\",class_=\"WKTcLC\")\n",
    "for i in b:\n",
    "    models.append(i.text.split(\"(\")[0])  # Extract model"
   ]
  },
  {
   "cell_type": "code",
   "execution_count": 31,
   "id": "6a62525d-7b18-47ed-be30-42dbcc421e3c",
   "metadata": {},
   "outputs": [
    {
     "data": {
      "text/plain": [
       "['Medium 30 L Laptop Backpack Bagpack school college, tra...',\n",
       " 'Medium 30 L Laptop Backpack 30L Laptop Backpack Medium ...',\n",
       " 'Medium 27 L Laptop Backpack Most popular college/office',\n",
       " 'Medium 28 L Laptop Backpack Laptop Backpack Classic Lea...',\n",
       " 'Large 60 L Laptop Backpack Unisex Water Proof Mountain ...',\n",
       " 'by Safari Medium 25 L Laptop Backpack Venture',\n",
       " 'Medium 28 L Laptop Backpack For Men And Women, Office, ...',\n",
       " 'Medium 30 L Laptop Backpack ASHPER CB With 6 Pockets',\n",
       " 'Large 35 L Laptop Backpack unisex Spacy with rain cover...',\n",
       " 'Large 40 L Laptop Backpack ASHPER Unisex with USB Port ...',\n",
       " 'Large 70 L Laptop Backpack Outdoor Sport Hiking Rucksuc...',\n",
       " 'Medium 22 L Laptop Backpack Staten Laptop Backpack for ...',\n",
       " 'Medium 22 L Backpack Casual Backpack',\n",
       " 'Laptop Sleeve With Pouch Case Cover for 15.6-16 Inch Wi...',\n",
       " 'Small 20 L Laptop Backpack Waterproof Laptop Bag/School...',\n",
       " 'Medium 29 L Laptop Backpack CROWN LP BP ',\n",
       " 'Medium 30 L Laptop Backpack MEDIUM 30 L BACKPACK SCHOOL...',\n",
       " '27.5 L Laptop Backpack VALEX',\n",
       " 'Large 45 L Laptop Backpack Spartan Unisex Travel Rucksa...',\n",
       " 'Large 35 L Laptop Backpack Ashper Pro',\n",
       " 'Medium 22 L Laptop Backpack Roam',\n",
       " 'by Safari Medium 25 L Laptop Backpack Venture',\n",
       " 'Large 40 L Laptop Backpack with Port and Rain Cover',\n",
       " 'Medium 30 L Backpack Joshua',\n",
       " 'Medium 22 L Laptop Backpack For Office/Business/Travel/...',\n",
       " 'Medium 30 L Laptop Backpack ASHPER CB With 6 Pockets',\n",
       " 'Large 35 L Laptop Backpack DC Unisex with HEAVU DUTY LI...',\n",
       " 'Large 31 L Laptop Backpack Classic Anti Theft Faux Leat...',\n",
       " 'Medium 30 L Laptop Backpack 30 L Laptop Backpack Elite ...',\n",
       " 'Small 18 L Backpack For Men & Women,Business Use, Lapto...',\n",
       " 'Medium 30 L Laptop Backpack 30L Medium TRI-color Grey G...',\n",
       " 'Medium 30 L Laptop Backpack Water Resistance fabric Sui...',\n",
       " 'Large 35 L Laptop Backpack Spacy unisex with rain cover...',\n",
       " 'Large 38 L Laptop Backpack Casual Self Design with Rain...',\n",
       " 'Large 35 L Laptop Backpack Everyday Backpack ,Ultra Hea...',\n",
       " '15.6 Inch Laptop Sleeve / Slip Case Cover Bag With Hand...',\n",
       " 'Large 31 L Laptop Backpack Vintage 2 Anti Theft Faux Le...',\n",
       " 'Large 60 L Laptop Backpack UNISEX Water Proof Mountain ...',\n",
       " 'Large 43 L Laptop Backpack Daredevil',\n",
       " 'Medium 25 L Laptop Backpack Luxur']"
      ]
     },
     "execution_count": 31,
     "metadata": {},
     "output_type": "execute_result"
    }
   ],
   "source": [
    "models"
   ]
  },
  {
   "cell_type": "code",
   "execution_count": 33,
   "id": "8194e7ed-99e7-42cb-a6fd-57894fad3aab",
   "metadata": {},
   "outputs": [
    {
     "name": "stdout",
     "output_type": "stream",
     "text": [
      "['Medium', 'Medium', 'Medium', 'Medium', 'Large', 'Medium', 'Medium', 'Medium', 'Large', 'Large', 'Large', 'Medium', 'Medium', None, 'Small', 'Medium', 'Medium', None, 'Large', 'Large', 'Medium', 'Medium', 'Large', 'Medium', 'Medium', 'Medium', 'Large', 'Large', 'Medium', 'Small', 'Medium', 'Medium', 'Large', 'Large', 'Large', None, 'Large', 'Large', 'Large', 'Medium']\n"
     ]
    }
   ],
   "source": [
    "size_pattern = r'\\b(Small|Medium|Large)\\b'\n",
    "\n",
    "# Extract sizes using regex\n",
    "sizes = [re.search(size_pattern, model).group(0) if re.search(size_pattern, model) else None for model in models]\n",
    "\n",
    "print(sizes)"
   ]
  },
  {
   "cell_type": "code",
   "execution_count": 35,
   "id": "216c66de-930b-4d50-bb97-323e417d3dce",
   "metadata": {},
   "outputs": [
    {
     "data": {
      "text/plain": [
       "40"
      ]
     },
     "execution_count": 35,
     "metadata": {},
     "output_type": "execute_result"
    }
   ],
   "source": [
    "len(sizes)"
   ]
  },
  {
   "cell_type": "code",
   "execution_count": 45,
   "id": "e02c1f27-fa80-4a10-8316-37d2de16f0cf",
   "metadata": {},
   "outputs": [
    {
     "data": {
      "text/plain": [
       "40"
      ]
     },
     "execution_count": 45,
     "metadata": {},
     "output_type": "execute_result"
    }
   ],
   "source": [
    "len(models)"
   ]
  },
  {
   "cell_type": "code",
   "execution_count": 47,
   "id": "e1fefda9-6ba0-408c-a353-0ed367a30fde",
   "metadata": {},
   "outputs": [
    {
     "data": {
      "text/plain": [
       "[<div class=\"Br9IW+\">Black</div>,\n",
       " <div class=\"Br9IW+\">Blue</div>,\n",
       " <div class=\"Br9IW+\">Black, Blue</div>,\n",
       " <div class=\"Br9IW+\">Tan</div>,\n",
       " <div class=\"Br9IW+\">Black, Blue</div>,\n",
       " <div class=\"Br9IW+\">Green</div>,\n",
       " <div class=\"Br9IW+\">Blue</div>,\n",
       " <div class=\"Br9IW+\">Black</div>,\n",
       " <div class=\"Br9IW+\">Black</div>,\n",
       " <div class=\"Br9IW+\">Black</div>,\n",
       " <div class=\"Br9IW+\">Grey, Black</div>,\n",
       " <div class=\"Br9IW+\">Green</div>,\n",
       " <div class=\"Br9IW+\">Grey</div>,\n",
       " <div class=\"Br9IW+\">Grey, 16 inch</div>,\n",
       " <div class=\"Br9IW+\">Black, Blue</div>,\n",
       " <div class=\"Br9IW+\">Black</div>,\n",
       " <div class=\"Br9IW+\">Black</div>,\n",
       " <div class=\"Br9IW+\">Black</div>,\n",
       " <div class=\"Br9IW+\">Black, Grey</div>,\n",
       " <div class=\"Br9IW+\">Blue</div>,\n",
       " <div class=\"Br9IW+\">Black</div>,\n",
       " <div class=\"Br9IW+\">Black</div>,\n",
       " <div class=\"Br9IW+\">Blue</div>,\n",
       " <div class=\"Br9IW+\">Black</div>,\n",
       " <div class=\"Br9IW+\">Grey, Blue</div>,\n",
       " <div class=\"Br9IW+\">Blue</div>,\n",
       " <div class=\"Br9IW+\">Brown</div>,\n",
       " <div class=\"Br9IW+\">Tan</div>,\n",
       " <div class=\"Br9IW+\">Blue</div>,\n",
       " <div class=\"Br9IW+\">Brown, Blue</div>,\n",
       " <div class=\"Br9IW+\">Green, Grey</div>,\n",
       " <div class=\"Br9IW+\">Black</div>,\n",
       " <div class=\"Br9IW+\">Green</div>,\n",
       " <div class=\"Br9IW+\">Black, Grey</div>,\n",
       " <div class=\"Br9IW+\">Blue</div>,\n",
       " <div class=\"Br9IW+\">Grey, 15.6 inch</div>,\n",
       " <div class=\"Br9IW+\">Tan</div>,\n",
       " <div class=\"Br9IW+\">Multicolor</div>,\n",
       " <div class=\"Br9IW+\">Grey, Black</div>,\n",
       " <div class=\"Br9IW+\">Brown</div>]"
      ]
     },
     "execution_count": 47,
     "metadata": {},
     "output_type": "execute_result"
    }
   ],
   "source": [
    "soup.find_all(\"div\",class_=\"Br9IW+\")"
   ]
  },
  {
   "cell_type": "code",
   "execution_count": null,
   "id": "86e5532e-67d1-4bbc-83f0-431542968217",
   "metadata": {},
   "outputs": [],
   "source": []
  },
  {
   "cell_type": "code",
   "execution_count": 50,
   "id": "b190088d-8913-495a-bbc3-696f036fb76e",
   "metadata": {},
   "outputs": [],
   "source": [
    "colour=[]\n",
    "c=soup.find_all(\"div\",class_=\"Br9IW+\")\n",
    "for i in c:\n",
    "        colour.append(i.text.split()[0])  # Extract brand\n",
    "\n"
   ]
  },
  {
   "cell_type": "code",
   "execution_count": 52,
   "id": "69b60256-e99f-48ff-b243-e26faffcb3b0",
   "metadata": {},
   "outputs": [
    {
     "data": {
      "text/plain": [
       "['Black',\n",
       " 'Blue',\n",
       " 'Black,',\n",
       " 'Tan',\n",
       " 'Black,',\n",
       " 'Green',\n",
       " 'Blue',\n",
       " 'Black',\n",
       " 'Black',\n",
       " 'Black',\n",
       " 'Grey,',\n",
       " 'Green',\n",
       " 'Grey',\n",
       " 'Grey,',\n",
       " 'Black,',\n",
       " 'Black',\n",
       " 'Black',\n",
       " 'Black',\n",
       " 'Black,',\n",
       " 'Blue',\n",
       " 'Black',\n",
       " 'Black',\n",
       " 'Blue',\n",
       " 'Black',\n",
       " 'Grey,',\n",
       " 'Blue',\n",
       " 'Brown',\n",
       " 'Tan',\n",
       " 'Blue',\n",
       " 'Brown,',\n",
       " 'Green,',\n",
       " 'Black',\n",
       " 'Green',\n",
       " 'Black,',\n",
       " 'Blue',\n",
       " 'Grey,',\n",
       " 'Tan',\n",
       " 'Multicolor',\n",
       " 'Grey,',\n",
       " 'Brown']"
      ]
     },
     "execution_count": 52,
     "metadata": {},
     "output_type": "execute_result"
    }
   ],
   "source": [
    "colour"
   ]
  },
  {
   "cell_type": "code",
   "execution_count": 54,
   "id": "16471899-a376-404e-beea-e33982189ef8",
   "metadata": {},
   "outputs": [
    {
     "data": {
      "text/plain": [
       "[<div class=\"UkUFwK\"><span>85% off</span></div>,\n",
       " <div class=\"UkUFwK\"><span>84% off</span></div>,\n",
       " <div class=\"UkUFwK\"><span>73% off</span></div>,\n",
       " <div class=\"UkUFwK\"><span>81% off</span></div>,\n",
       " <div class=\"UkUFwK\"><span>61% off</span></div>,\n",
       " <div class=\"UkUFwK\"><span>58% off</span></div>,\n",
       " <div class=\"UkUFwK\"><span>33% off</span></div>,\n",
       " <div class=\"UkUFwK\"><span>84% off</span></div>,\n",
       " <div class=\"UkUFwK\"><span>83% off</span></div>,\n",
       " <div class=\"UkUFwK\"><span>84% off</span></div>,\n",
       " <div class=\"UkUFwK\"><span>85% off</span></div>,\n",
       " <div class=\"UkUFwK\"><span>86% off</span></div>,\n",
       " <div class=\"UkUFwK\"><span>70% off</span></div>,\n",
       " <div class=\"UkUFwK\"><span>65% off</span></div>,\n",
       " <div class=\"UkUFwK\"><span>58% off</span></div>,\n",
       " <div class=\"UkUFwK\"><span>76% off</span></div>,\n",
       " <div class=\"UkUFwK\"><span>83% off</span></div>,\n",
       " <div class=\"UkUFwK\"><span>56% off</span></div>,\n",
       " <div class=\"UkUFwK\"><span>77% off</span></div>,\n",
       " <div class=\"UkUFwK\"><span>82% off</span></div>,\n",
       " <div class=\"UkUFwK\"><span>62% off</span></div>,\n",
       " <div class=\"UkUFwK\"><span>58% off</span></div>,\n",
       " <div class=\"UkUFwK\"><span>84% off</span></div>,\n",
       " <div class=\"UkUFwK\"><span>50% off</span></div>,\n",
       " <div class=\"UkUFwK\"><span>57% off</span></div>,\n",
       " <div class=\"UkUFwK\"><span>84% off</span></div>,\n",
       " <div class=\"UkUFwK\"><span>84% off</span></div>,\n",
       " <div class=\"UkUFwK\"><span>79% off</span></div>,\n",
       " <div class=\"UkUFwK\"><span>74% off</span></div>,\n",
       " <div class=\"UkUFwK\"><span>56% off</span></div>,\n",
       " <div class=\"UkUFwK\"><span>82% off</span></div>,\n",
       " <div class=\"UkUFwK\"><span>77% off</span></div>,\n",
       " <div class=\"UkUFwK\"><span>83% off</span></div>,\n",
       " <div class=\"UkUFwK\"><span>81% off</span></div>,\n",
       " <div class=\"UkUFwK\"><span>36% off</span></div>,\n",
       " <div class=\"UkUFwK\"><span>31% off</span></div>,\n",
       " <div class=\"UkUFwK\"><span>82% off</span></div>,\n",
       " <div class=\"UkUFwK\"><span>81% off</span></div>,\n",
       " <div class=\"UkUFwK\"><span>67% off</span></div>,\n",
       " <div class=\"UkUFwK\"><span>72% off</span></div>,\n",
       " <div class=\"UkUFwK WMQHm1\"><span>81% off</span></div>,\n",
       " <div class=\"UkUFwK WMQHm1\"><span>62% off</span></div>,\n",
       " <div class=\"UkUFwK WMQHm1\"><span>82% off</span></div>,\n",
       " <div class=\"UkUFwK WMQHm1\"><span>85% off</span></div>,\n",
       " <div class=\"UkUFwK WMQHm1\"><span>74% off</span></div>]"
      ]
     },
     "execution_count": 54,
     "metadata": {},
     "output_type": "execute_result"
    }
   ],
   "source": [
    "soup.find_all(\"div\",class_=\"UkUFwK\")"
   ]
  },
  {
   "cell_type": "code",
   "execution_count": 56,
   "id": "5e872c1d-8643-41a3-ade7-79ba5af75f94",
   "metadata": {},
   "outputs": [],
   "source": [
    "offer=[]\n",
    "o=soup.find_all(\"div\",class_=\"UkUFwK\")\n",
    "for i in o:\n",
    "    offer.append(i.text.split()[0])  # Extract offer\n"
   ]
  },
  {
   "cell_type": "code",
   "execution_count": 58,
   "id": "7a098a64-87c7-4be1-a3f8-371e1d4bfb48",
   "metadata": {},
   "outputs": [
    {
     "data": {
      "text/plain": [
       "['85%',\n",
       " '84%',\n",
       " '73%',\n",
       " '81%',\n",
       " '61%',\n",
       " '58%',\n",
       " '33%',\n",
       " '84%',\n",
       " '83%',\n",
       " '84%',\n",
       " '85%',\n",
       " '86%',\n",
       " '70%',\n",
       " '65%',\n",
       " '58%',\n",
       " '76%',\n",
       " '83%',\n",
       " '56%',\n",
       " '77%',\n",
       " '82%',\n",
       " '62%',\n",
       " '58%',\n",
       " '84%',\n",
       " '50%',\n",
       " '57%',\n",
       " '84%',\n",
       " '84%',\n",
       " '79%',\n",
       " '74%',\n",
       " '56%',\n",
       " '82%',\n",
       " '77%',\n",
       " '83%',\n",
       " '81%',\n",
       " '36%',\n",
       " '31%',\n",
       " '82%',\n",
       " '81%',\n",
       " '67%',\n",
       " '72%',\n",
       " '81%',\n",
       " '62%',\n",
       " '82%',\n",
       " '85%',\n",
       " '74%']"
      ]
     },
     "execution_count": 58,
     "metadata": {},
     "output_type": "execute_result"
    }
   ],
   "source": [
    "offer"
   ]
  },
  {
   "cell_type": "code",
   "execution_count": 60,
   "id": "d6ae4fd6-a6d2-436b-bc27-665253e0d708",
   "metadata": {},
   "outputs": [
    {
     "data": {
      "text/plain": [
       "45"
      ]
     },
     "execution_count": 60,
     "metadata": {},
     "output_type": "execute_result"
    }
   ],
   "source": [
    "len(offer)"
   ]
  },
  {
   "cell_type": "code",
   "execution_count": 62,
   "id": "df7a6aab-ee1f-46d6-9981-080bda3b94a5",
   "metadata": {},
   "outputs": [],
   "source": [
    "Ratings=[]\n",
    "r = soup.find_all(\"div\",class_=\"XQDdHH\")\n",
    "for i in r:\n",
    "    Ratings.append(i.text.split()[0])\n"
   ]
  },
  {
   "cell_type": "code",
   "execution_count": 64,
   "id": "17188acd-3116-4b74-bd10-a468ef4cc315",
   "metadata": {},
   "outputs": [
    {
     "data": {
      "text/plain": [
       "['4.1',\n",
       " '4',\n",
       " '4',\n",
       " '4.6',\n",
       " '5',\n",
       " '5',\n",
       " '4.4',\n",
       " '5',\n",
       " '5',\n",
       " '3.8',\n",
       " '5',\n",
       " '1',\n",
       " '3.8',\n",
       " '5',\n",
       " '5']"
      ]
     },
     "execution_count": 64,
     "metadata": {},
     "output_type": "execute_result"
    }
   ],
   "source": [
    "Ratings"
   ]
  },
  {
   "cell_type": "code",
   "execution_count": 66,
   "id": "eb15c495-96df-4f9f-be29-758c4d2dfc1b",
   "metadata": {},
   "outputs": [
    {
     "data": {
      "text/plain": [
       "40"
      ]
     },
     "execution_count": 66,
     "metadata": {},
     "output_type": "execute_result"
    }
   ],
   "source": [
    "len(brands)"
   ]
  },
  {
   "cell_type": "code",
   "execution_count": 68,
   "id": "378a33d8-78ca-4ae2-93ab-9f0645e9e08e",
   "metadata": {},
   "outputs": [
    {
     "data": {
      "text/plain": [
       "40"
      ]
     },
     "execution_count": 68,
     "metadata": {},
     "output_type": "execute_result"
    }
   ],
   "source": [
    "len(models)"
   ]
  },
  {
   "cell_type": "code",
   "execution_count": 70,
   "id": "98436aee-3802-4765-921b-be2335161f0f",
   "metadata": {},
   "outputs": [
    {
     "data": {
      "text/plain": [
       "45"
      ]
     },
     "execution_count": 70,
     "metadata": {},
     "output_type": "execute_result"
    }
   ],
   "source": [
    "len(prices)"
   ]
  },
  {
   "cell_type": "code",
   "execution_count": 72,
   "id": "4e00eb38-9e55-43fc-8a6a-21e09d79fb37",
   "metadata": {},
   "outputs": [
    {
     "data": {
      "text/plain": [
       "45"
      ]
     },
     "execution_count": 72,
     "metadata": {},
     "output_type": "execute_result"
    }
   ],
   "source": [
    "len(offer)"
   ]
  },
  {
   "cell_type": "code",
   "execution_count": 74,
   "id": "ff7be027-d552-49dc-85fc-1f8bc3f6fc1c",
   "metadata": {},
   "outputs": [
    {
     "data": {
      "text/plain": [
       "15"
      ]
     },
     "execution_count": 74,
     "metadata": {},
     "output_type": "execute_result"
    }
   ],
   "source": [
    "len(Ratings)"
   ]
  },
  {
   "cell_type": "code",
   "execution_count": 76,
   "id": "ce8166c4-3d54-4156-a4f0-79c25337cd5f",
   "metadata": {},
   "outputs": [
    {
     "data": {
      "text/plain": [
       "40"
      ]
     },
     "execution_count": 76,
     "metadata": {},
     "output_type": "execute_result"
    }
   ],
   "source": [
    "len(colour)"
   ]
  },
  {
   "cell_type": "code",
   "execution_count": 78,
   "id": "d763e149-2058-49b0-aed1-854cace785df",
   "metadata": {},
   "outputs": [],
   "source": [
    "data={\"Brand\":brands,\n",
    "      \"Models\":models,\n",
    "      \"prices\":prices,\n",
    "      \"offers\":offer,\n",
    "      \"colours\":colour,\n",
    "      \"ratings\":Ratings}\n",
    "\n",
    "      "
   ]
  },
  {
   "cell_type": "code",
   "execution_count": 100,
   "id": "21c750c5-9750-44d8-bc17-680c724d123d",
   "metadata": {},
   "outputs": [
    {
     "data": {
      "text/html": [
       "<div>\n",
       "<style scoped>\n",
       "    .dataframe tbody tr th:only-of-type {\n",
       "        vertical-align: middle;\n",
       "    }\n",
       "\n",
       "    .dataframe tbody tr th {\n",
       "        vertical-align: top;\n",
       "    }\n",
       "\n",
       "    .dataframe thead th {\n",
       "        text-align: right;\n",
       "    }\n",
       "</style>\n",
       "<table border=\"1\" class=\"dataframe\">\n",
       "  <thead>\n",
       "    <tr style=\"text-align: right;\">\n",
       "      <th></th>\n",
       "      <th>Brand</th>\n",
       "      <th>Model</th>\n",
       "      <th>Price</th>\n",
       "      <th>Offer</th>\n",
       "      <th>Colour</th>\n",
       "      <th>Rating</th>\n",
       "      <th>Size</th>\n",
       "      <th>Volume</th>\n",
       "    </tr>\n",
       "  </thead>\n",
       "  <tbody>\n",
       "    <tr>\n",
       "      <th>0</th>\n",
       "      <td>Urban</td>\n",
       "      <td>by Safari Medium 25 L Laptop Backpack Venture</td>\n",
       "      <td>₹4,495</td>\n",
       "      <td>58%</td>\n",
       "      <td>Green</td>\n",
       "      <td>4.1</td>\n",
       "      <td>Medium</td>\n",
       "      <td>25 L</td>\n",
       "    </tr>\n",
       "    <tr>\n",
       "      <th>1</th>\n",
       "      <td>markway</td>\n",
       "      <td>Large 35 L Laptop Backpack Elite 16 Inch Lapto...</td>\n",
       "      <td>₹514</td>\n",
       "      <td>79%</td>\n",
       "      <td>Black</td>\n",
       "      <td>4</td>\n",
       "      <td>Large</td>\n",
       "      <td>35 L</td>\n",
       "    </tr>\n",
       "    <tr>\n",
       "      <th>2</th>\n",
       "      <td>HP</td>\n",
       "      <td>Medium 27 L Laptop Backpack Most popular colle...</td>\n",
       "      <td>₹299</td>\n",
       "      <td>73%</td>\n",
       "      <td>Black,</td>\n",
       "      <td>4</td>\n",
       "      <td>Medium</td>\n",
       "      <td>27 L</td>\n",
       "    </tr>\n",
       "    <tr>\n",
       "      <th>3</th>\n",
       "      <td>APNEK</td>\n",
       "      <td>Medium 28 L Laptop Backpack For Men And Women,...</td>\n",
       "      <td>₹1,398</td>\n",
       "      <td>33%</td>\n",
       "      <td>Blue</td>\n",
       "      <td>4.6</td>\n",
       "      <td>Medium</td>\n",
       "      <td>28 L</td>\n",
       "    </tr>\n",
       "    <tr>\n",
       "      <th>4</th>\n",
       "      <td>APNEK</td>\n",
       "      <td>Small 20 L Laptop Backpack Waterproof Laptop B...</td>\n",
       "      <td>₹785</td>\n",
       "      <td>58%</td>\n",
       "      <td>Black,</td>\n",
       "      <td>5</td>\n",
       "      <td>Small</td>\n",
       "      <td>20 L</td>\n",
       "    </tr>\n",
       "    <tr>\n",
       "      <th>...</th>\n",
       "      <td>...</td>\n",
       "      <td>...</td>\n",
       "      <td>...</td>\n",
       "      <td>...</td>\n",
       "      <td>...</td>\n",
       "      <td>...</td>\n",
       "      <td>...</td>\n",
       "      <td>...</td>\n",
       "    </tr>\n",
       "    <tr>\n",
       "      <th>1118</th>\n",
       "      <td>None</td>\n",
       "      <td>None</td>\n",
       "      <td>₹1,199</td>\n",
       "      <td>None</td>\n",
       "      <td>None</td>\n",
       "      <td>None</td>\n",
       "      <td>None</td>\n",
       "      <td>None</td>\n",
       "    </tr>\n",
       "    <tr>\n",
       "      <th>1119</th>\n",
       "      <td>None</td>\n",
       "      <td>None</td>\n",
       "      <td>₹4,495</td>\n",
       "      <td>None</td>\n",
       "      <td>None</td>\n",
       "      <td>None</td>\n",
       "      <td>None</td>\n",
       "      <td>None</td>\n",
       "    </tr>\n",
       "    <tr>\n",
       "      <th>1120</th>\n",
       "      <td>None</td>\n",
       "      <td>None</td>\n",
       "      <td>₹789</td>\n",
       "      <td>None</td>\n",
       "      <td>None</td>\n",
       "      <td>None</td>\n",
       "      <td>None</td>\n",
       "      <td>None</td>\n",
       "    </tr>\n",
       "    <tr>\n",
       "      <th>1121</th>\n",
       "      <td>None</td>\n",
       "      <td>None</td>\n",
       "      <td>₹899</td>\n",
       "      <td>None</td>\n",
       "      <td>None</td>\n",
       "      <td>None</td>\n",
       "      <td>None</td>\n",
       "      <td>None</td>\n",
       "    </tr>\n",
       "    <tr>\n",
       "      <th>1122</th>\n",
       "      <td>None</td>\n",
       "      <td>None</td>\n",
       "      <td>₹589</td>\n",
       "      <td>None</td>\n",
       "      <td>None</td>\n",
       "      <td>None</td>\n",
       "      <td>None</td>\n",
       "      <td>None</td>\n",
       "    </tr>\n",
       "  </tbody>\n",
       "</table>\n",
       "<p>1123 rows × 8 columns</p>\n",
       "</div>"
      ],
      "text/plain": [
       "        Brand                                              Model   Price  \\\n",
       "0       Urban      by Safari Medium 25 L Laptop Backpack Venture  ₹4,495   \n",
       "1     markway  Large 35 L Laptop Backpack Elite 16 Inch Lapto...    ₹514   \n",
       "2          HP  Medium 27 L Laptop Backpack Most popular colle...    ₹299   \n",
       "3       APNEK  Medium 28 L Laptop Backpack For Men And Women,...  ₹1,398   \n",
       "4       APNEK  Small 20 L Laptop Backpack Waterproof Laptop B...    ₹785   \n",
       "...       ...                                                ...     ...   \n",
       "1118     None                                               None  ₹1,199   \n",
       "1119     None                                               None  ₹4,495   \n",
       "1120     None                                               None    ₹789   \n",
       "1121     None                                               None    ₹899   \n",
       "1122     None                                               None    ₹589   \n",
       "\n",
       "     Offer  Colour Rating    Size Volume  \n",
       "0      58%   Green    4.1  Medium   25 L  \n",
       "1      79%   Black      4   Large   35 L  \n",
       "2      73%  Black,      4  Medium   27 L  \n",
       "3      33%    Blue    4.6  Medium   28 L  \n",
       "4      58%  Black,      5   Small   20 L  \n",
       "...    ...     ...    ...     ...    ...  \n",
       "1118  None    None   None    None   None  \n",
       "1119  None    None   None    None   None  \n",
       "1120  None    None   None    None   None  \n",
       "1121  None    None   None    None   None  \n",
       "1122  None    None   None    None   None  \n",
       "\n",
       "[1123 rows x 8 columns]"
      ]
     },
     "execution_count": 100,
     "metadata": {},
     "output_type": "execute_result"
    }
   ],
   "source": [
    "df=pd.DataFrame(data)\n",
    "df"
   ]
  },
  {
   "cell_type": "code",
   "execution_count": 105,
   "id": "2b9dcfeb-b1d2-4533-a9b8-a67a1c63458c",
   "metadata": {},
   "outputs": [
    {
     "name": "stdout",
     "output_type": "stream",
     "text": [
      "https://www.flipkart.com/search?q=laptop+bags&otracker=search&otracker1=search&marketplace=FLIPKART&as-show=on&as=off&page=1\n",
      "https://www.flipkart.com/search?q=laptop+bags&otracker=search&otracker1=search&marketplace=FLIPKART&as-show=on&as=off&page=2\n",
      "https://www.flipkart.com/search?q=laptop+bags&otracker=search&otracker1=search&marketplace=FLIPKART&as-show=on&as=off&page=3\n",
      "https://www.flipkart.com/search?q=laptop+bags&otracker=search&otracker1=search&marketplace=FLIPKART&as-show=on&as=off&page=4\n",
      "https://www.flipkart.com/search?q=laptop+bags&otracker=search&otracker1=search&marketplace=FLIPKART&as-show=on&as=off&page=5\n",
      "https://www.flipkart.com/search?q=laptop+bags&otracker=search&otracker1=search&marketplace=FLIPKART&as-show=on&as=off&page=6\n",
      "https://www.flipkart.com/search?q=laptop+bags&otracker=search&otracker1=search&marketplace=FLIPKART&as-show=on&as=off&page=7\n",
      "https://www.flipkart.com/search?q=laptop+bags&otracker=search&otracker1=search&marketplace=FLIPKART&as-show=on&as=off&page=8\n",
      "https://www.flipkart.com/search?q=laptop+bags&otracker=search&otracker1=search&marketplace=FLIPKART&as-show=on&as=off&page=9\n",
      "https://www.flipkart.com/search?q=laptop+bags&otracker=search&otracker1=search&marketplace=FLIPKART&as-show=on&as=off&page=10\n",
      "https://www.flipkart.com/search?q=laptop+bags&otracker=search&otracker1=search&marketplace=FLIPKART&as-show=on&as=off&page=11\n",
      "https://www.flipkart.com/search?q=laptop+bags&otracker=search&otracker1=search&marketplace=FLIPKART&as-show=on&as=off&page=12\n",
      "https://www.flipkart.com/search?q=laptop+bags&otracker=search&otracker1=search&marketplace=FLIPKART&as-show=on&as=off&page=13\n",
      "https://www.flipkart.com/search?q=laptop+bags&otracker=search&otracker1=search&marketplace=FLIPKART&as-show=on&as=off&page=14\n",
      "https://www.flipkart.com/search?q=laptop+bags&otracker=search&otracker1=search&marketplace=FLIPKART&as-show=on&as=off&page=15\n",
      "https://www.flipkart.com/search?q=laptop+bags&otracker=search&otracker1=search&marketplace=FLIPKART&as-show=on&as=off&page=16\n",
      "https://www.flipkart.com/search?q=laptop+bags&otracker=search&otracker1=search&marketplace=FLIPKART&as-show=on&as=off&page=17\n",
      "https://www.flipkart.com/search?q=laptop+bags&otracker=search&otracker1=search&marketplace=FLIPKART&as-show=on&as=off&page=18\n",
      "https://www.flipkart.com/search?q=laptop+bags&otracker=search&otracker1=search&marketplace=FLIPKART&as-show=on&as=off&page=19\n",
      "https://www.flipkart.com/search?q=laptop+bags&otracker=search&otracker1=search&marketplace=FLIPKART&as-show=on&as=off&page=20\n",
      "https://www.flipkart.com/search?q=laptop+bags&otracker=search&otracker1=search&marketplace=FLIPKART&as-show=on&as=off&page=21\n",
      "https://www.flipkart.com/search?q=laptop+bags&otracker=search&otracker1=search&marketplace=FLIPKART&as-show=on&as=off&page=22\n",
      "https://www.flipkart.com/search?q=laptop+bags&otracker=search&otracker1=search&marketplace=FLIPKART&as-show=on&as=off&page=23\n",
      "https://www.flipkart.com/search?q=laptop+bags&otracker=search&otracker1=search&marketplace=FLIPKART&as-show=on&as=off&page=24\n",
      "https://www.flipkart.com/search?q=laptop+bags&otracker=search&otracker1=search&marketplace=FLIPKART&as-show=on&as=off&page=25\n",
      "https://www.flipkart.com/search?q=laptop+bags&otracker=search&otracker1=search&marketplace=FLIPKART&as-show=on&as=off&page=26\n",
      "https://www.flipkart.com/search?q=laptop+bags&otracker=search&otracker1=search&marketplace=FLIPKART&as-show=on&as=off&page=27\n",
      "https://www.flipkart.com/search?q=laptop+bags&otracker=search&otracker1=search&marketplace=FLIPKART&as-show=on&as=off&page=28\n",
      "https://www.flipkart.com/search?q=laptop+bags&otracker=search&otracker1=search&marketplace=FLIPKART&as-show=on&as=off&page=29\n",
      "https://www.flipkart.com/search?q=laptop+bags&otracker=search&otracker1=search&marketplace=FLIPKART&as-show=on&as=off&page=30\n",
      "https://www.flipkart.com/search?q=laptop+bags&otracker=search&otracker1=search&marketplace=FLIPKART&as-show=on&as=off&page=31\n",
      "https://www.flipkart.com/search?q=laptop+bags&otracker=search&otracker1=search&marketplace=FLIPKART&as-show=on&as=off&page=32\n",
      "https://www.flipkart.com/search?q=laptop+bags&otracker=search&otracker1=search&marketplace=FLIPKART&as-show=on&as=off&page=33\n",
      "https://www.flipkart.com/search?q=laptop+bags&otracker=search&otracker1=search&marketplace=FLIPKART&as-show=on&as=off&page=34\n",
      "https://www.flipkart.com/search?q=laptop+bags&otracker=search&otracker1=search&marketplace=FLIPKART&as-show=on&as=off&page=35\n",
      "https://www.flipkart.com/search?q=laptop+bags&otracker=search&otracker1=search&marketplace=FLIPKART&as-show=on&as=off&page=36\n",
      "https://www.flipkart.com/search?q=laptop+bags&otracker=search&otracker1=search&marketplace=FLIPKART&as-show=on&as=off&page=37\n",
      "https://www.flipkart.com/search?q=laptop+bags&otracker=search&otracker1=search&marketplace=FLIPKART&as-show=on&as=off&page=38\n",
      "https://www.flipkart.com/search?q=laptop+bags&otracker=search&otracker1=search&marketplace=FLIPKART&as-show=on&as=off&page=39\n",
      "https://www.flipkart.com/search?q=laptop+bags&otracker=search&otracker1=search&marketplace=FLIPKART&as-show=on&as=off&page=40\n",
      "https://www.flipkart.com/search?q=laptop+bags&otracker=search&otracker1=search&marketplace=FLIPKART&as-show=on&as=off&page=41\n",
      "https://www.flipkart.com/search?q=laptop+bags&otracker=search&otracker1=search&marketplace=FLIPKART&as-show=on&as=off&page=42\n",
      "https://www.flipkart.com/search?q=laptop+bags&otracker=search&otracker1=search&marketplace=FLIPKART&as-show=on&as=off&page=43\n",
      "https://www.flipkart.com/search?q=laptop+bags&otracker=search&otracker1=search&marketplace=FLIPKART&as-show=on&as=off&page=44\n",
      "https://www.flipkart.com/search?q=laptop+bags&otracker=search&otracker1=search&marketplace=FLIPKART&as-show=on&as=off&page=45\n",
      "https://www.flipkart.com/search?q=laptop+bags&otracker=search&otracker1=search&marketplace=FLIPKART&as-show=on&as=off&page=46\n",
      "https://www.flipkart.com/search?q=laptop+bags&otracker=search&otracker1=search&marketplace=FLIPKART&as-show=on&as=off&page=47\n",
      "https://www.flipkart.com/search?q=laptop+bags&otracker=search&otracker1=search&marketplace=FLIPKART&as-show=on&as=off&page=48\n",
      "https://www.flipkart.com/search?q=laptop+bags&otracker=search&otracker1=search&marketplace=FLIPKART&as-show=on&as=off&page=49\n"
     ]
    }
   ],
   "source": [
    "for i in range(1,50):\n",
    "    # Modify the URL to include the 'page' parameter\n",
    "    url = f\"https://www.flipkart.com/search?q=laptop+bags&otracker=search&otracker1=search&marketplace=FLIPKART&as-show=on&as=off&page={i}\"\n",
    "    print(url)\n"
   ]
  },
  {
   "cell_type": "code",
   "execution_count": 118,
   "id": "0969e47e-6a70-4dfe-a1d2-04309bfc6c7d",
   "metadata": {},
   "outputs": [
    {
     "name": "stdout",
     "output_type": "stream",
     "text": [
      "      Brand                                              Model   Price Offer  \\\n",
      "0     Urban      by Safari Medium 25 L Laptop Backpack Venture  ₹4,495   58%   \n",
      "1      Fast  Large 70 L Laptop Backpack Outdoor Sport Hikin...    ₹439   85%   \n",
      "2        HP  Medium 27 L Laptop Backpack Most popular colle...    ₹299   73%   \n",
      "3     MICXO  Medium 28 L Laptop Backpack Laptop Backpack Cl...    ₹465   81%   \n",
      "4  SamSaras  Large 60 L Laptop Backpack Unisex Water Proof ...    ₹849   61%   \n",
      "\n",
      "   Colour Rating    Size Volume  \n",
      "0   Green    4.1  Medium   25 L  \n",
      "1   Grey,      4   Large   70 L  \n",
      "2  Black,      4  Medium   27 L  \n",
      "3     Tan    4.6  Medium   28 L  \n",
      "4  Black,      5   Large   60 L  \n"
     ]
    }
   ],
   "source": [
    "import requests\n",
    "from bs4 import BeautifulSoup\n",
    "import pandas as pd\n",
    "import re\n",
    "\n",
    "# Initialize lists to store data\n",
    "brands = []\n",
    "models = []\n",
    "prices = []\n",
    "offer = []\n",
    "colour = []\n",
    "ratings = []\n",
    "sizes = []  \n",
    "volumes = []  \n",
    "\n",
    "# Base URL for the search (without the page number)\n",
    "url_base = \"https://www.flipkart.com/search?q=laptop+bags&otracker=search&otracker1=search&marketplace=FLIPKART&as-show=on&as=off&page=\"\n",
    "\n",
    "# Regex patterns for size and volume\n",
    "size_pattern = r'\\b(Small|Medium|Large)\\b'\n",
    "volume_pattern = r'(\\d+\\s?L)'\n",
    "\n",
    "for page_num in range(1, 50): \n",
    "    url = url_base + str(page_num)\n",
    "    response = requests.get(url)\n",
    "    soup = BeautifulSoup(response.text, 'html.parser')\n",
    "    \n",
    "    # Extracting brands\n",
    "    b = soup.find_all(\"div\", class_=\"syl9yP\")\n",
    "    for i in b:\n",
    "        brands.append(i.text.split()[0] if i.text else None)\n",
    "        \n",
    "    # Extracting models\n",
    "    m = soup.find_all(\"a\", class_=\"WKTcLC\")\n",
    "    for i in m:\n",
    "        model_name = i.text.split(\"(\")[0] if i.text else None\n",
    "        models.append(model_name)\n",
    "        \n",
    "        # Extracting size from model name\n",
    "        size_match = re.search(size_pattern, model_name)\n",
    "        size = size_match.group(0) if size_match else None\n",
    "        sizes.append(size)\n",
    "        \n",
    "        # Extracting volume from model name\n",
    "        volume_match = re.search(volume_pattern, model_name)\n",
    "        volume = volume_match.group(0) if volume_match else None\n",
    "        volumes.append(volume)\n",
    "        \n",
    "    # Extracting prices\n",
    "    p = soup.find_all(\"div\", class_=\"Nx9bqj\")\n",
    "    for i in p:\n",
    "        prices.append(i.text if i.text else None) \n",
    "    \n",
    "    # Extracting offers\n",
    "    o = soup.find_all(\"div\", class_=\"UkUFwK\")\n",
    "    for i in o:\n",
    "        offer.append(i.text.split()[0] if i.text else None)  \n",
    "    \n",
    "    # Extracting colours\n",
    "    c = soup.find_all(\"div\", class_=\"Br9IW+\")\n",
    "    for i in c:\n",
    "        colour.append(i.text.split()[0] if i.text else None) \n",
    "    \n",
    "    # Extracting ratings\n",
    "    r = soup.find_all(\"div\", class_=\"XQDdHH\")\n",
    "    for i in r:\n",
    "        ratings.append(i.text.split()[0] if i.text else None)  \n",
    "\n",
    "# Ensure all lists are the same length\n",
    "maximum_length = max(len(brands), len(models), len(prices), len(offer), len(colour), len(ratings), len(sizes), len(volumes))\n",
    "\n",
    "# Fill shorter lists with None\n",
    "brands += [None] * (maximum_length - len(brands))\n",
    "models += [None] * (maximum_length - len(models))\n",
    "prices += [None] * (maximum_length - len(prices))\n",
    "offer += [None] * (maximum_length - len(offer))\n",
    "colour += [None] * (maximum_length - len(colour))\n",
    "ratings += [None] * (maximum_length - len(ratings))\n",
    "sizes += [None] * (maximum_length - len(sizes))\n",
    "volumes += [None] * (maximum_length - len(volumes))\n",
    "\n",
    "# Create a dictionary \n",
    "data = {\n",
    "    'Brand': brands,\n",
    "    'Model': models,\n",
    "    'Price': prices,\n",
    "    'Offer': offer,\n",
    "    'Colour': colour,\n",
    "    'Rating': ratings,\n",
    "    'Size': sizes, \n",
    "    'Volume': volumes  \n",
    "}\n",
    "\n",
    "# Create a DataFrame\n",
    "df = pd.DataFrame(data)\n",
    "print(df.head())  \n",
    "\n",
    "# Save the DataFrame to a CSV file\n",
    "df.to_csv(\"laptop_bags.csv\", index=False)\n"
   ]
  },
  {
   "cell_type": "code",
   "execution_count": 122,
   "id": "9e39ec82-7e26-43c8-b3c9-698cb0796503",
   "metadata": {},
   "outputs": [],
   "source": [
    "import pandas as pd"
   ]
  },
  {
   "cell_type": "code",
   "execution_count": 136,
   "id": "57321f4c-ac46-48d3-94a1-e5a8d120550b",
   "metadata": {},
   "outputs": [],
   "source": [
    "#df=pd.read_csv(r\"C:\\Users\\DELL\\laptop_bags.csv\")"
   ]
  },
  {
   "cell_type": "code",
   "execution_count": 138,
   "id": "5138abbb-10e3-45d2-b2d7-66caf78fb58c",
   "metadata": {},
   "outputs": [
    {
     "data": {
      "text/html": [
       "<div>\n",
       "<style scoped>\n",
       "    .dataframe tbody tr th:only-of-type {\n",
       "        vertical-align: middle;\n",
       "    }\n",
       "\n",
       "    .dataframe tbody tr th {\n",
       "        vertical-align: top;\n",
       "    }\n",
       "\n",
       "    .dataframe thead th {\n",
       "        text-align: right;\n",
       "    }\n",
       "</style>\n",
       "<table border=\"1\" class=\"dataframe\">\n",
       "  <thead>\n",
       "    <tr style=\"text-align: right;\">\n",
       "      <th></th>\n",
       "      <th>Brand</th>\n",
       "      <th>Model</th>\n",
       "      <th>Price</th>\n",
       "      <th>Offer</th>\n",
       "      <th>Colour</th>\n",
       "      <th>Rating</th>\n",
       "      <th>Size</th>\n",
       "      <th>Volume</th>\n",
       "    </tr>\n",
       "  </thead>\n",
       "  <tbody>\n",
       "    <tr>\n",
       "      <th>0</th>\n",
       "      <td>Urban</td>\n",
       "      <td>by Safari Medium 25 L Laptop Backpack Venture</td>\n",
       "      <td>₹4,495</td>\n",
       "      <td>58%</td>\n",
       "      <td>Green</td>\n",
       "      <td>4.1</td>\n",
       "      <td>Medium</td>\n",
       "      <td>25 L</td>\n",
       "    </tr>\n",
       "    <tr>\n",
       "      <th>1</th>\n",
       "      <td>Fast</td>\n",
       "      <td>Large 70 L Laptop Backpack Outdoor Sport Hikin...</td>\n",
       "      <td>₹439</td>\n",
       "      <td>85%</td>\n",
       "      <td>Grey,</td>\n",
       "      <td>4</td>\n",
       "      <td>Large</td>\n",
       "      <td>70 L</td>\n",
       "    </tr>\n",
       "    <tr>\n",
       "      <th>2</th>\n",
       "      <td>HP</td>\n",
       "      <td>Medium 27 L Laptop Backpack Most popular colle...</td>\n",
       "      <td>₹299</td>\n",
       "      <td>73%</td>\n",
       "      <td>Black,</td>\n",
       "      <td>4</td>\n",
       "      <td>Medium</td>\n",
       "      <td>27 L</td>\n",
       "    </tr>\n",
       "    <tr>\n",
       "      <th>3</th>\n",
       "      <td>MICXO</td>\n",
       "      <td>Medium 28 L Laptop Backpack Laptop Backpack Cl...</td>\n",
       "      <td>₹465</td>\n",
       "      <td>81%</td>\n",
       "      <td>Tan</td>\n",
       "      <td>4.6</td>\n",
       "      <td>Medium</td>\n",
       "      <td>28 L</td>\n",
       "    </tr>\n",
       "    <tr>\n",
       "      <th>4</th>\n",
       "      <td>SamSaras</td>\n",
       "      <td>Large 60 L Laptop Backpack Unisex Water Proof ...</td>\n",
       "      <td>₹849</td>\n",
       "      <td>61%</td>\n",
       "      <td>Black,</td>\n",
       "      <td>5</td>\n",
       "      <td>Large</td>\n",
       "      <td>60 L</td>\n",
       "    </tr>\n",
       "    <tr>\n",
       "      <th>...</th>\n",
       "      <td>...</td>\n",
       "      <td>...</td>\n",
       "      <td>...</td>\n",
       "      <td>...</td>\n",
       "      <td>...</td>\n",
       "      <td>...</td>\n",
       "      <td>...</td>\n",
       "      <td>...</td>\n",
       "    </tr>\n",
       "    <tr>\n",
       "      <th>1118</th>\n",
       "      <td>None</td>\n",
       "      <td>None</td>\n",
       "      <td>₹1,499</td>\n",
       "      <td>None</td>\n",
       "      <td>None</td>\n",
       "      <td>None</td>\n",
       "      <td>None</td>\n",
       "      <td>None</td>\n",
       "    </tr>\n",
       "    <tr>\n",
       "      <th>1119</th>\n",
       "      <td>None</td>\n",
       "      <td>None</td>\n",
       "      <td>₹1,499</td>\n",
       "      <td>None</td>\n",
       "      <td>None</td>\n",
       "      <td>None</td>\n",
       "      <td>None</td>\n",
       "      <td>None</td>\n",
       "    </tr>\n",
       "    <tr>\n",
       "      <th>1120</th>\n",
       "      <td>None</td>\n",
       "      <td>None</td>\n",
       "      <td>₹1,212</td>\n",
       "      <td>None</td>\n",
       "      <td>None</td>\n",
       "      <td>None</td>\n",
       "      <td>None</td>\n",
       "      <td>None</td>\n",
       "    </tr>\n",
       "    <tr>\n",
       "      <th>1121</th>\n",
       "      <td>None</td>\n",
       "      <td>None</td>\n",
       "      <td>₹346</td>\n",
       "      <td>None</td>\n",
       "      <td>None</td>\n",
       "      <td>None</td>\n",
       "      <td>None</td>\n",
       "      <td>None</td>\n",
       "    </tr>\n",
       "    <tr>\n",
       "      <th>1122</th>\n",
       "      <td>None</td>\n",
       "      <td>None</td>\n",
       "      <td>₹4,495</td>\n",
       "      <td>None</td>\n",
       "      <td>None</td>\n",
       "      <td>None</td>\n",
       "      <td>None</td>\n",
       "      <td>None</td>\n",
       "    </tr>\n",
       "  </tbody>\n",
       "</table>\n",
       "<p>1123 rows × 8 columns</p>\n",
       "</div>"
      ],
      "text/plain": [
       "         Brand                                              Model   Price  \\\n",
       "0        Urban      by Safari Medium 25 L Laptop Backpack Venture  ₹4,495   \n",
       "1         Fast  Large 70 L Laptop Backpack Outdoor Sport Hikin...    ₹439   \n",
       "2           HP  Medium 27 L Laptop Backpack Most popular colle...    ₹299   \n",
       "3        MICXO  Medium 28 L Laptop Backpack Laptop Backpack Cl...    ₹465   \n",
       "4     SamSaras  Large 60 L Laptop Backpack Unisex Water Proof ...    ₹849   \n",
       "...        ...                                                ...     ...   \n",
       "1118      None                                               None  ₹1,499   \n",
       "1119      None                                               None  ₹1,499   \n",
       "1120      None                                               None  ₹1,212   \n",
       "1121      None                                               None    ₹346   \n",
       "1122      None                                               None  ₹4,495   \n",
       "\n",
       "     Offer  Colour Rating    Size Volume  \n",
       "0      58%   Green    4.1  Medium   25 L  \n",
       "1      85%   Grey,      4   Large   70 L  \n",
       "2      73%  Black,      4  Medium   27 L  \n",
       "3      81%     Tan    4.6  Medium   28 L  \n",
       "4      61%  Black,      5   Large   60 L  \n",
       "...    ...     ...    ...     ...    ...  \n",
       "1118  None    None   None    None   None  \n",
       "1119  None    None   None    None   None  \n",
       "1120  None    None   None    None   None  \n",
       "1121  None    None   None    None   None  \n",
       "1122  None    None   None    None   None  \n",
       "\n",
       "[1123 rows x 8 columns]"
      ]
     },
     "execution_count": 138,
     "metadata": {},
     "output_type": "execute_result"
    }
   ],
   "source": [
    "df"
   ]
  },
  {
   "cell_type": "code",
   "execution_count": 140,
   "id": "21ca7997-454e-490f-86be-7ab3b190e1d4",
   "metadata": {},
   "outputs": [
    {
     "data": {
      "text/plain": [
       "Index(['Brand', 'Model', 'Price', 'Offer', 'Colour', 'Rating', 'Size',\n",
       "       'Volume'],\n",
       "      dtype='object')"
      ]
     },
     "execution_count": 140,
     "metadata": {},
     "output_type": "execute_result"
    }
   ],
   "source": [
    "df.columns"
   ]
  },
  {
   "cell_type": "code",
   "execution_count": 142,
   "id": "dfa71ec5-401b-4ade-867e-09894620f3e8",
   "metadata": {},
   "outputs": [
    {
     "data": {
      "text/plain": [
       "<bound method DataFrame.isnull of          Brand                                              Model   Price  \\\n",
       "0        Urban      by Safari Medium 25 L Laptop Backpack Venture  ₹4,495   \n",
       "1         Fast  Large 70 L Laptop Backpack Outdoor Sport Hikin...    ₹439   \n",
       "2           HP  Medium 27 L Laptop Backpack Most popular colle...    ₹299   \n",
       "3        MICXO  Medium 28 L Laptop Backpack Laptop Backpack Cl...    ₹465   \n",
       "4     SamSaras  Large 60 L Laptop Backpack Unisex Water Proof ...    ₹849   \n",
       "...        ...                                                ...     ...   \n",
       "1118      None                                               None  ₹1,499   \n",
       "1119      None                                               None  ₹1,499   \n",
       "1120      None                                               None  ₹1,212   \n",
       "1121      None                                               None    ₹346   \n",
       "1122      None                                               None  ₹4,495   \n",
       "\n",
       "     Offer  Colour Rating    Size Volume  \n",
       "0      58%   Green    4.1  Medium   25 L  \n",
       "1      85%   Grey,      4   Large   70 L  \n",
       "2      73%  Black,      4  Medium   27 L  \n",
       "3      81%     Tan    4.6  Medium   28 L  \n",
       "4      61%  Black,      5   Large   60 L  \n",
       "...    ...     ...    ...     ...    ...  \n",
       "1118  None    None   None    None   None  \n",
       "1119  None    None   None    None   None  \n",
       "1120  None    None   None    None   None  \n",
       "1121  None    None   None    None   None  \n",
       "1122  None    None   None    None   None  \n",
       "\n",
       "[1123 rows x 8 columns]>"
      ]
     },
     "execution_count": 142,
     "metadata": {},
     "output_type": "execute_result"
    }
   ],
   "source": [
    "df.isnull"
   ]
  },
  {
   "cell_type": "code",
   "execution_count": 144,
   "id": "f3bf5304-ff88-4a98-b539-9a1b6d811c3b",
   "metadata": {},
   "outputs": [
    {
     "data": {
      "text/plain": [
       "Brand     177\n",
       "Model     163\n",
       "Price       0\n",
       "Offer       9\n",
       "Colour    163\n",
       "Rating    709\n",
       "Size      293\n",
       "Volume    253\n",
       "dtype: int64"
      ]
     },
     "execution_count": 144,
     "metadata": {},
     "output_type": "execute_result"
    }
   ],
   "source": [
    "df.isnull().sum()"
   ]
  },
  {
   "cell_type": "code",
   "execution_count": 152,
   "id": "ef117ff3-7db9-4650-ab8e-e4f760aa9398",
   "metadata": {},
   "outputs": [
    {
     "data": {
      "text/plain": [
       "array(['58%', '85%', '73%', '81%', '61%', '83%', '33%', '84%', '86%',\n",
       "       '56%', '70%', '65%', '76%', '62%', '77%', '82%', '50%', '57%',\n",
       "       '79%', '74%', '36%', '31%', '67%', '72%', '55%', '69%', '71%',\n",
       "       '66%', '78%', '51%', '87%', '15%', '80%', '64%', '60%', '63%',\n",
       "       '28%', '88%', '41%', '52%', '53%', '44%', '59%', '47%', '68%',\n",
       "       '11%', '75%', '4%', '1%', '19%', '35%', '26%', '54%', '93%', '30%',\n",
       "       '39%', '43%', '49%', '40%', '38%', '29%', '48%', '12%', '20%',\n",
       "       '17%', '37%', '3%', '14%', '10%', '24%', '42%', '46%', '22%',\n",
       "       '90%', None], dtype=object)"
      ]
     },
     "execution_count": 152,
     "metadata": {},
     "output_type": "execute_result"
    }
   ],
   "source": [
    "df['Offer'].unique()"
   ]
  },
  {
   "cell_type": "code",
   "execution_count": 160,
   "id": "3505c28d-3626-4b9d-b0b8-23d0cca7a2cd",
   "metadata": {},
   "outputs": [
    {
     "name": "stdout",
     "output_type": "stream",
     "text": [
      "<class 'pandas.core.frame.DataFrame'>\n",
      "RangeIndex: 1123 entries, 0 to 1122\n",
      "Data columns (total 8 columns):\n",
      " #   Column  Non-Null Count  Dtype \n",
      "---  ------  --------------  ----- \n",
      " 0   Brand   946 non-null    object\n",
      " 1   Model   960 non-null    object\n",
      " 2   Price   1123 non-null   object\n",
      " 3   Offer   1114 non-null   object\n",
      " 4   Colour  960 non-null    object\n",
      " 5   Rating  414 non-null    object\n",
      " 6   Size    830 non-null    object\n",
      " 7   Volume  870 non-null    object\n",
      "dtypes: object(8)\n",
      "memory usage: 70.3+ KB\n"
     ]
    }
   ],
   "source": [
    "df.info()"
   ]
  },
  {
   "cell_type": "code",
   "execution_count": 164,
   "id": "4640fdf6-f1d4-4d63-b892-9ae9f486abb6",
   "metadata": {},
   "outputs": [],
   "source": [
    "df['Rating'] = df['Rating'].astype('float')"
   ]
  },
  {
   "cell_type": "code",
   "execution_count": 166,
   "id": "5f53279d-111e-46b0-ac0f-35aba7c056fa",
   "metadata": {},
   "outputs": [],
   "source": [
    "df['Rating'] = df['Rating'].fillna(df['Rating'].mean())\n",
    "df['Brand'] = df['Brand'].fillna(df['Brand'].mode()[0])\n",
    "df['Colour'] = df['Colour'].fillna(df['Colour'].mode()[0])\n",
    "df['Price'] = df['Price'].str.replace('₹', '').str.replace(',', '').astype(float)"
   ]
  },
  {
   "cell_type": "code",
   "execution_count": 156,
   "id": "a0784049-5a6a-4b19-8c66-246f4253f3ea",
   "metadata": {},
   "outputs": [
    {
     "data": {
      "text/html": [
       "<div>\n",
       "<style scoped>\n",
       "    .dataframe tbody tr th:only-of-type {\n",
       "        vertical-align: middle;\n",
       "    }\n",
       "\n",
       "    .dataframe tbody tr th {\n",
       "        vertical-align: top;\n",
       "    }\n",
       "\n",
       "    .dataframe thead th {\n",
       "        text-align: right;\n",
       "    }\n",
       "</style>\n",
       "<table border=\"1\" class=\"dataframe\">\n",
       "  <thead>\n",
       "    <tr style=\"text-align: right;\">\n",
       "      <th></th>\n",
       "      <th>Brand</th>\n",
       "      <th>Model</th>\n",
       "      <th>Price</th>\n",
       "      <th>Offer</th>\n",
       "      <th>Colour</th>\n",
       "      <th>Rating</th>\n",
       "      <th>Size</th>\n",
       "      <th>Volume</th>\n",
       "    </tr>\n",
       "  </thead>\n",
       "  <tbody>\n",
       "    <tr>\n",
       "      <th>0</th>\n",
       "      <td>Urban</td>\n",
       "      <td>by Safari Medium 25 L Laptop Backpack Venture</td>\n",
       "      <td>₹4,495</td>\n",
       "      <td>58%</td>\n",
       "      <td>Green</td>\n",
       "      <td>4.1</td>\n",
       "      <td>Medium</td>\n",
       "      <td>25 L</td>\n",
       "    </tr>\n",
       "    <tr>\n",
       "      <th>1</th>\n",
       "      <td>Fast</td>\n",
       "      <td>Large 70 L Laptop Backpack Outdoor Sport Hikin...</td>\n",
       "      <td>₹439</td>\n",
       "      <td>85%</td>\n",
       "      <td>Grey,</td>\n",
       "      <td>4</td>\n",
       "      <td>Large</td>\n",
       "      <td>70 L</td>\n",
       "    </tr>\n",
       "    <tr>\n",
       "      <th>2</th>\n",
       "      <td>HP</td>\n",
       "      <td>Medium 27 L Laptop Backpack Most popular colle...</td>\n",
       "      <td>₹299</td>\n",
       "      <td>73%</td>\n",
       "      <td>Black,</td>\n",
       "      <td>4</td>\n",
       "      <td>Medium</td>\n",
       "      <td>27 L</td>\n",
       "    </tr>\n",
       "    <tr>\n",
       "      <th>3</th>\n",
       "      <td>MICXO</td>\n",
       "      <td>Medium 28 L Laptop Backpack Laptop Backpack Cl...</td>\n",
       "      <td>₹465</td>\n",
       "      <td>81%</td>\n",
       "      <td>Tan</td>\n",
       "      <td>4.6</td>\n",
       "      <td>Medium</td>\n",
       "      <td>28 L</td>\n",
       "    </tr>\n",
       "    <tr>\n",
       "      <th>4</th>\n",
       "      <td>SamSaras</td>\n",
       "      <td>Large 60 L Laptop Backpack Unisex Water Proof ...</td>\n",
       "      <td>₹849</td>\n",
       "      <td>61%</td>\n",
       "      <td>Black,</td>\n",
       "      <td>5</td>\n",
       "      <td>Large</td>\n",
       "      <td>60 L</td>\n",
       "    </tr>\n",
       "    <tr>\n",
       "      <th>...</th>\n",
       "      <td>...</td>\n",
       "      <td>...</td>\n",
       "      <td>...</td>\n",
       "      <td>...</td>\n",
       "      <td>...</td>\n",
       "      <td>...</td>\n",
       "      <td>...</td>\n",
       "      <td>...</td>\n",
       "    </tr>\n",
       "    <tr>\n",
       "      <th>1118</th>\n",
       "      <td>None</td>\n",
       "      <td>None</td>\n",
       "      <td>₹1,499</td>\n",
       "      <td>None</td>\n",
       "      <td>None</td>\n",
       "      <td>None</td>\n",
       "      <td>None</td>\n",
       "      <td>None</td>\n",
       "    </tr>\n",
       "    <tr>\n",
       "      <th>1119</th>\n",
       "      <td>None</td>\n",
       "      <td>None</td>\n",
       "      <td>₹1,499</td>\n",
       "      <td>None</td>\n",
       "      <td>None</td>\n",
       "      <td>None</td>\n",
       "      <td>None</td>\n",
       "      <td>None</td>\n",
       "    </tr>\n",
       "    <tr>\n",
       "      <th>1120</th>\n",
       "      <td>None</td>\n",
       "      <td>None</td>\n",
       "      <td>₹1,212</td>\n",
       "      <td>None</td>\n",
       "      <td>None</td>\n",
       "      <td>None</td>\n",
       "      <td>None</td>\n",
       "      <td>None</td>\n",
       "    </tr>\n",
       "    <tr>\n",
       "      <th>1121</th>\n",
       "      <td>None</td>\n",
       "      <td>None</td>\n",
       "      <td>₹346</td>\n",
       "      <td>None</td>\n",
       "      <td>None</td>\n",
       "      <td>None</td>\n",
       "      <td>None</td>\n",
       "      <td>None</td>\n",
       "    </tr>\n",
       "    <tr>\n",
       "      <th>1122</th>\n",
       "      <td>None</td>\n",
       "      <td>None</td>\n",
       "      <td>₹4,495</td>\n",
       "      <td>None</td>\n",
       "      <td>None</td>\n",
       "      <td>None</td>\n",
       "      <td>None</td>\n",
       "      <td>None</td>\n",
       "    </tr>\n",
       "  </tbody>\n",
       "</table>\n",
       "<p>1123 rows × 8 columns</p>\n",
       "</div>"
      ],
      "text/plain": [
       "         Brand                                              Model   Price  \\\n",
       "0        Urban      by Safari Medium 25 L Laptop Backpack Venture  ₹4,495   \n",
       "1         Fast  Large 70 L Laptop Backpack Outdoor Sport Hikin...    ₹439   \n",
       "2           HP  Medium 27 L Laptop Backpack Most popular colle...    ₹299   \n",
       "3        MICXO  Medium 28 L Laptop Backpack Laptop Backpack Cl...    ₹465   \n",
       "4     SamSaras  Large 60 L Laptop Backpack Unisex Water Proof ...    ₹849   \n",
       "...        ...                                                ...     ...   \n",
       "1118      None                                               None  ₹1,499   \n",
       "1119      None                                               None  ₹1,499   \n",
       "1120      None                                               None  ₹1,212   \n",
       "1121      None                                               None    ₹346   \n",
       "1122      None                                               None  ₹4,495   \n",
       "\n",
       "     Offer  Colour Rating    Size Volume  \n",
       "0      58%   Green    4.1  Medium   25 L  \n",
       "1      85%   Grey,      4   Large   70 L  \n",
       "2      73%  Black,      4  Medium   27 L  \n",
       "3      81%     Tan    4.6  Medium   28 L  \n",
       "4      61%  Black,      5   Large   60 L  \n",
       "...    ...     ...    ...     ...    ...  \n",
       "1118  None    None   None    None   None  \n",
       "1119  None    None   None    None   None  \n",
       "1120  None    None   None    None   None  \n",
       "1121  None    None   None    None   None  \n",
       "1122  None    None   None    None   None  \n",
       "\n",
       "[1123 rows x 8 columns]"
      ]
     },
     "execution_count": 156,
     "metadata": {},
     "output_type": "execute_result"
    }
   ],
   "source": [
    "df"
   ]
  },
  {
   "cell_type": "code",
   "execution_count": 168,
   "id": "75b70b3d-e2b0-4b47-988b-ce7b97b89a09",
   "metadata": {},
   "outputs": [
    {
     "data": {
      "text/html": [
       "<div>\n",
       "<style scoped>\n",
       "    .dataframe tbody tr th:only-of-type {\n",
       "        vertical-align: middle;\n",
       "    }\n",
       "\n",
       "    .dataframe tbody tr th {\n",
       "        vertical-align: top;\n",
       "    }\n",
       "\n",
       "    .dataframe thead th {\n",
       "        text-align: right;\n",
       "    }\n",
       "</style>\n",
       "<table border=\"1\" class=\"dataframe\">\n",
       "  <thead>\n",
       "    <tr style=\"text-align: right;\">\n",
       "      <th></th>\n",
       "      <th>Brand</th>\n",
       "      <th>Model</th>\n",
       "      <th>Price</th>\n",
       "      <th>Offer</th>\n",
       "      <th>Colour</th>\n",
       "      <th>Rating</th>\n",
       "      <th>Size</th>\n",
       "      <th>Volume</th>\n",
       "    </tr>\n",
       "  </thead>\n",
       "  <tbody>\n",
       "    <tr>\n",
       "      <th>0</th>\n",
       "      <td>Urban</td>\n",
       "      <td>by Safari Medium 25 L Laptop Backpack Venture</td>\n",
       "      <td>4495.0</td>\n",
       "      <td>58%</td>\n",
       "      <td>Green</td>\n",
       "      <td>4.100000</td>\n",
       "      <td>Medium</td>\n",
       "      <td>25 L</td>\n",
       "    </tr>\n",
       "    <tr>\n",
       "      <th>1</th>\n",
       "      <td>Fast</td>\n",
       "      <td>Large 70 L Laptop Backpack Outdoor Sport Hikin...</td>\n",
       "      <td>439.0</td>\n",
       "      <td>85%</td>\n",
       "      <td>Grey,</td>\n",
       "      <td>4.000000</td>\n",
       "      <td>Large</td>\n",
       "      <td>70 L</td>\n",
       "    </tr>\n",
       "    <tr>\n",
       "      <th>2</th>\n",
       "      <td>HP</td>\n",
       "      <td>Medium 27 L Laptop Backpack Most popular colle...</td>\n",
       "      <td>299.0</td>\n",
       "      <td>73%</td>\n",
       "      <td>Black,</td>\n",
       "      <td>4.000000</td>\n",
       "      <td>Medium</td>\n",
       "      <td>27 L</td>\n",
       "    </tr>\n",
       "    <tr>\n",
       "      <th>3</th>\n",
       "      <td>MICXO</td>\n",
       "      <td>Medium 28 L Laptop Backpack Laptop Backpack Cl...</td>\n",
       "      <td>465.0</td>\n",
       "      <td>81%</td>\n",
       "      <td>Tan</td>\n",
       "      <td>4.600000</td>\n",
       "      <td>Medium</td>\n",
       "      <td>28 L</td>\n",
       "    </tr>\n",
       "    <tr>\n",
       "      <th>4</th>\n",
       "      <td>SamSaras</td>\n",
       "      <td>Large 60 L Laptop Backpack Unisex Water Proof ...</td>\n",
       "      <td>849.0</td>\n",
       "      <td>61%</td>\n",
       "      <td>Black,</td>\n",
       "      <td>5.000000</td>\n",
       "      <td>Large</td>\n",
       "      <td>60 L</td>\n",
       "    </tr>\n",
       "    <tr>\n",
       "      <th>...</th>\n",
       "      <td>...</td>\n",
       "      <td>...</td>\n",
       "      <td>...</td>\n",
       "      <td>...</td>\n",
       "      <td>...</td>\n",
       "      <td>...</td>\n",
       "      <td>...</td>\n",
       "      <td>...</td>\n",
       "    </tr>\n",
       "    <tr>\n",
       "      <th>955</th>\n",
       "      <td>PROVOGUE</td>\n",
       "      <td>Large 35 L Laptop Backpack LEADER 2.0 Unisex b...</td>\n",
       "      <td>521.0</td>\n",
       "      <td>82%</td>\n",
       "      <td>Tan</td>\n",
       "      <td>4.168116</td>\n",
       "      <td>Large</td>\n",
       "      <td>35 L</td>\n",
       "    </tr>\n",
       "    <tr>\n",
       "      <th>956</th>\n",
       "      <td>PROVOGUE</td>\n",
       "      <td>Large 31 L Laptop Backpack Classic Anti Theft ...</td>\n",
       "      <td>999.0</td>\n",
       "      <td>20%</td>\n",
       "      <td>Tan</td>\n",
       "      <td>4.168116</td>\n",
       "      <td>Large</td>\n",
       "      <td>31 L</td>\n",
       "    </tr>\n",
       "    <tr>\n",
       "      <th>957</th>\n",
       "      <td>PROVOGUE</td>\n",
       "      <td>Large 35 L Laptop Backpack Spacy unisex with r...</td>\n",
       "      <td>840.0</td>\n",
       "      <td>51%</td>\n",
       "      <td>Black</td>\n",
       "      <td>4.168116</td>\n",
       "      <td>Large</td>\n",
       "      <td>35 L</td>\n",
       "    </tr>\n",
       "    <tr>\n",
       "      <th>958</th>\n",
       "      <td>PROVOGUE</td>\n",
       "      <td>Large 35 L Laptop Backpack vegan Leather backp...</td>\n",
       "      <td>1599.0</td>\n",
       "      <td>42%</td>\n",
       "      <td>Brown</td>\n",
       "      <td>4.168116</td>\n",
       "      <td>Large</td>\n",
       "      <td>35 L</td>\n",
       "    </tr>\n",
       "    <tr>\n",
       "      <th>959</th>\n",
       "      <td>PROVOGUE</td>\n",
       "      <td>Medium 30 L Laptop Backpack Laptop Backpack fo...</td>\n",
       "      <td>389.0</td>\n",
       "      <td>71%</td>\n",
       "      <td>Orange,</td>\n",
       "      <td>4.168116</td>\n",
       "      <td>Medium</td>\n",
       "      <td>30 L</td>\n",
       "    </tr>\n",
       "  </tbody>\n",
       "</table>\n",
       "<p>830 rows × 8 columns</p>\n",
       "</div>"
      ],
      "text/plain": [
       "        Brand                                              Model   Price  \\\n",
       "0       Urban      by Safari Medium 25 L Laptop Backpack Venture  4495.0   \n",
       "1        Fast  Large 70 L Laptop Backpack Outdoor Sport Hikin...   439.0   \n",
       "2          HP  Medium 27 L Laptop Backpack Most popular colle...   299.0   \n",
       "3       MICXO  Medium 28 L Laptop Backpack Laptop Backpack Cl...   465.0   \n",
       "4    SamSaras  Large 60 L Laptop Backpack Unisex Water Proof ...   849.0   \n",
       "..        ...                                                ...     ...   \n",
       "955  PROVOGUE  Large 35 L Laptop Backpack LEADER 2.0 Unisex b...   521.0   \n",
       "956  PROVOGUE  Large 31 L Laptop Backpack Classic Anti Theft ...   999.0   \n",
       "957  PROVOGUE  Large 35 L Laptop Backpack Spacy unisex with r...   840.0   \n",
       "958  PROVOGUE  Large 35 L Laptop Backpack vegan Leather backp...  1599.0   \n",
       "959  PROVOGUE  Medium 30 L Laptop Backpack Laptop Backpack fo...   389.0   \n",
       "\n",
       "    Offer   Colour    Rating    Size Volume  \n",
       "0     58%    Green  4.100000  Medium   25 L  \n",
       "1     85%    Grey,  4.000000   Large   70 L  \n",
       "2     73%   Black,  4.000000  Medium   27 L  \n",
       "3     81%      Tan  4.600000  Medium   28 L  \n",
       "4     61%   Black,  5.000000   Large   60 L  \n",
       "..    ...      ...       ...     ...    ...  \n",
       "955   82%      Tan  4.168116   Large   35 L  \n",
       "956   20%      Tan  4.168116   Large   31 L  \n",
       "957   51%    Black  4.168116   Large   35 L  \n",
       "958   42%    Brown  4.168116   Large   35 L  \n",
       "959   71%  Orange,  4.168116  Medium   30 L  \n",
       "\n",
       "[830 rows x 8 columns]"
      ]
     },
     "execution_count": 168,
     "metadata": {},
     "output_type": "execute_result"
    }
   ],
   "source": [
    "data1=df.dropna()\n",
    "data1"
   ]
  },
  {
   "cell_type": "code",
   "execution_count": 170,
   "id": "c1c71be8-103e-42b4-88b5-e09b4b18e4aa",
   "metadata": {},
   "outputs": [
    {
     "name": "stdout",
     "output_type": "stream",
     "text": [
      "        Brand                                              Model   Price  \\\n",
      "0       Urban      by Safari Medium 25 L Laptop Backpack Venture  4495.0   \n",
      "1        Fast  Large 70 L Laptop Backpack Outdoor Sport Hikin...   439.0   \n",
      "2          HP  Medium 27 L Laptop Backpack Most popular colle...   299.0   \n",
      "3       MICXO  Medium 28 L Laptop Backpack Laptop Backpack Cl...   465.0   \n",
      "4    SamSaras  Large 60 L Laptop Backpack Unisex Water Proof ...   849.0   \n",
      "..        ...                                                ...     ...   \n",
      "955  PROVOGUE  Large 35 L Laptop Backpack LEADER 2.0 Unisex b...   521.0   \n",
      "956  PROVOGUE  Large 31 L Laptop Backpack Classic Anti Theft ...   999.0   \n",
      "957  PROVOGUE  Large 35 L Laptop Backpack Spacy unisex with r...   840.0   \n",
      "958  PROVOGUE  Large 35 L Laptop Backpack vegan Leather backp...  1599.0   \n",
      "959  PROVOGUE  Medium 30 L Laptop Backpack Laptop Backpack fo...   389.0   \n",
      "\n",
      "    Offer   Colour    Rating    Size  Volume  \n",
      "0     58%    Green  4.100000  Medium      25  \n",
      "1     85%    Grey,  4.000000   Large      70  \n",
      "2     73%   Black,  4.000000  Medium      27  \n",
      "3     81%      Tan  4.600000  Medium      28  \n",
      "4     61%   Black,  5.000000   Large      60  \n",
      "..    ...      ...       ...     ...     ...  \n",
      "955   82%      Tan  4.168116   Large      35  \n",
      "956   20%      Tan  4.168116   Large      31  \n",
      "957   51%    Black  4.168116   Large      35  \n",
      "958   42%    Brown  4.168116   Large      35  \n",
      "959   71%  Orange,  4.168116  Medium      30  \n",
      "\n",
      "[830 rows x 8 columns]\n"
     ]
    },
    {
     "name": "stderr",
     "output_type": "stream",
     "text": [
      "C:\\Users\\Sindhu\\AppData\\Local\\Temp\\ipykernel_52668\\2122672666.py:1: SettingWithCopyWarning: \n",
      "A value is trying to be set on a copy of a slice from a DataFrame.\n",
      "Try using .loc[row_indexer,col_indexer] = value instead\n",
      "\n",
      "See the caveats in the documentation: https://pandas.pydata.org/pandas-docs/stable/user_guide/indexing.html#returning-a-view-versus-a-copy\n",
      "  data1['Volume'] = data1['Volume'].astype(str)\n",
      "C:\\Users\\Sindhu\\AppData\\Local\\Temp\\ipykernel_52668\\2122672666.py:2: SettingWithCopyWarning: \n",
      "A value is trying to be set on a copy of a slice from a DataFrame.\n",
      "Try using .loc[row_indexer,col_indexer] = value instead\n",
      "\n",
      "See the caveats in the documentation: https://pandas.pydata.org/pandas-docs/stable/user_guide/indexing.html#returning-a-view-versus-a-copy\n",
      "  data1['Volume'] = data1['Volume'].str.replace(' L', '', regex=False)\n",
      "C:\\Users\\Sindhu\\AppData\\Local\\Temp\\ipykernel_52668\\2122672666.py:3: SettingWithCopyWarning: \n",
      "A value is trying to be set on a copy of a slice from a DataFrame.\n",
      "Try using .loc[row_indexer,col_indexer] = value instead\n",
      "\n",
      "See the caveats in the documentation: https://pandas.pydata.org/pandas-docs/stable/user_guide/indexing.html#returning-a-view-versus-a-copy\n",
      "  data1['Volume'] = pd.to_numeric(data1['Volume'])\n"
     ]
    }
   ],
   "source": [
    "data1['Volume'] = data1['Volume'].astype(str)\n",
    "data1['Volume'] = data1['Volume'].str.replace(' L', '', regex=False)\n",
    "data1['Volume'] = pd.to_numeric(data1['Volume'])\n",
    "print(data1)"
   ]
  },
  {
   "cell_type": "code",
   "execution_count": 172,
   "id": "a30604f0-bff6-4fa5-9eb5-8ff5a97bfcae",
   "metadata": {},
   "outputs": [
    {
     "name": "stdout",
     "output_type": "stream",
     "text": [
      "        Brand                                              Model   Price  \\\n",
      "0       Urban      by Safari Medium 25 L Laptop Backpack Venture  4495.0   \n",
      "1        Fast  Large 70 L Laptop Backpack Outdoor Sport Hikin...   439.0   \n",
      "2          HP  Medium 27 L Laptop Backpack Most popular colle...   299.0   \n",
      "3       MICXO  Medium 28 L Laptop Backpack Laptop Backpack Cl...   465.0   \n",
      "4    SamSaras  Large 60 L Laptop Backpack Unisex Water Proof ...   849.0   \n",
      "..        ...                                                ...     ...   \n",
      "955  PROVOGUE  Large 35 L Laptop Backpack LEADER 2.0 Unisex b...   521.0   \n",
      "956  PROVOGUE  Large 31 L Laptop Backpack Classic Anti Theft ...   999.0   \n",
      "957  PROVOGUE  Large 35 L Laptop Backpack Spacy unisex with r...   840.0   \n",
      "958  PROVOGUE  Large 35 L Laptop Backpack vegan Leather backp...  1599.0   \n",
      "959  PROVOGUE  Medium 30 L Laptop Backpack Laptop Backpack fo...   389.0   \n",
      "\n",
      "    Offer   Colour  Rating    Size  Volume  \n",
      "0     58%    Green       4  Medium      25  \n",
      "1     85%    Grey,       4   Large      70  \n",
      "2     73%   Black,       4  Medium      27  \n",
      "3     81%      Tan       5  Medium      28  \n",
      "4     61%   Black,       5   Large      60  \n",
      "..    ...      ...     ...     ...     ...  \n",
      "955   82%      Tan       4   Large      35  \n",
      "956   20%      Tan       4   Large      31  \n",
      "957   51%    Black       4   Large      35  \n",
      "958   42%    Brown       4   Large      35  \n",
      "959   71%  Orange,       4  Medium      30  \n",
      "\n",
      "[830 rows x 8 columns]\n"
     ]
    },
    {
     "name": "stderr",
     "output_type": "stream",
     "text": [
      "C:\\Users\\Sindhu\\AppData\\Local\\Temp\\ipykernel_52668\\1383622179.py:1: SettingWithCopyWarning: \n",
      "A value is trying to be set on a copy of a slice from a DataFrame.\n",
      "Try using .loc[row_indexer,col_indexer] = value instead\n",
      "\n",
      "See the caveats in the documentation: https://pandas.pydata.org/pandas-docs/stable/user_guide/indexing.html#returning-a-view-versus-a-copy\n",
      "  data1['Rating'] = data1['Rating'].round().astype(int)\n"
     ]
    }
   ],
   "source": [
    "data1['Rating'] = data1['Rating'].round().astype(int)\n",
    "print(data1)"
   ]
  },
  {
   "cell_type": "code",
   "execution_count": 174,
   "id": "ec7ffd51-98c3-42e5-bca7-9f6b71b19cac",
   "metadata": {},
   "outputs": [
    {
     "name": "stdout",
     "output_type": "stream",
     "text": [
      "        Brand                                              Model   Price  \\\n",
      "0       Urban      by Safari Medium 25 L Laptop Backpack Venture  4495.0   \n",
      "1        Fast  Large 70 L Laptop Backpack Outdoor Sport Hikin...   439.0   \n",
      "2          HP  Medium 27 L Laptop Backpack Most popular colle...   299.0   \n",
      "3       MICXO  Medium 28 L Laptop Backpack Laptop Backpack Cl...   465.0   \n",
      "4    SamSaras  Large 60 L Laptop Backpack Unisex Water Proof ...   849.0   \n",
      "..        ...                                                ...     ...   \n",
      "955  PROVOGUE  Large 35 L Laptop Backpack LEADER 2.0 Unisex b...   521.0   \n",
      "956  PROVOGUE  Large 31 L Laptop Backpack Classic Anti Theft ...   999.0   \n",
      "957  PROVOGUE  Large 35 L Laptop Backpack Spacy unisex with r...   840.0   \n",
      "958  PROVOGUE  Large 35 L Laptop Backpack vegan Leather backp...  1599.0   \n",
      "959  PROVOGUE  Medium 30 L Laptop Backpack Laptop Backpack fo...   389.0   \n",
      "\n",
      "     Offer   Colour  Rating    Size  Volume  \n",
      "0       58    Green       4  Medium      25  \n",
      "1       85    Grey,       4   Large      70  \n",
      "2       73   Black,       4  Medium      27  \n",
      "3       81      Tan       5  Medium      28  \n",
      "4       61   Black,       5   Large      60  \n",
      "..     ...      ...     ...     ...     ...  \n",
      "955     82      Tan       4   Large      35  \n",
      "956     20      Tan       4   Large      31  \n",
      "957     51    Black       4   Large      35  \n",
      "958     42    Brown       4   Large      35  \n",
      "959     71  Orange,       4  Medium      30  \n",
      "\n",
      "[830 rows x 8 columns]\n"
     ]
    },
    {
     "name": "stderr",
     "output_type": "stream",
     "text": [
      "C:\\Users\\Sindhu\\AppData\\Local\\Temp\\ipykernel_52668\\2706544669.py:1: SettingWithCopyWarning: \n",
      "A value is trying to be set on a copy of a slice from a DataFrame.\n",
      "Try using .loc[row_indexer,col_indexer] = value instead\n",
      "\n",
      "See the caveats in the documentation: https://pandas.pydata.org/pandas-docs/stable/user_guide/indexing.html#returning-a-view-versus-a-copy\n",
      "  data1['Offer'] = data1['Offer'].astype(str).str.replace('%', '').astype(int)\n"
     ]
    }
   ],
   "source": [
    "data1['Offer'] = data1['Offer'].astype(str).str.replace('%', '').astype(int)\n",
    "print(data1)"
   ]
  },
  {
   "cell_type": "code",
   "execution_count": 176,
   "id": "bb4389f6-1f51-4c7f-a92e-2c29ffe09116",
   "metadata": {},
   "outputs": [
    {
     "data": {
      "text/html": [
       "<div>\n",
       "<style scoped>\n",
       "    .dataframe tbody tr th:only-of-type {\n",
       "        vertical-align: middle;\n",
       "    }\n",
       "\n",
       "    .dataframe tbody tr th {\n",
       "        vertical-align: top;\n",
       "    }\n",
       "\n",
       "    .dataframe thead th {\n",
       "        text-align: right;\n",
       "    }\n",
       "</style>\n",
       "<table border=\"1\" class=\"dataframe\">\n",
       "  <thead>\n",
       "    <tr style=\"text-align: right;\">\n",
       "      <th></th>\n",
       "      <th>Brand</th>\n",
       "      <th>Model</th>\n",
       "      <th>Price</th>\n",
       "      <th>Offer</th>\n",
       "      <th>Colour</th>\n",
       "      <th>Rating</th>\n",
       "      <th>Size</th>\n",
       "      <th>Volume</th>\n",
       "    </tr>\n",
       "  </thead>\n",
       "  <tbody>\n",
       "    <tr>\n",
       "      <th>0</th>\n",
       "      <td>Urban</td>\n",
       "      <td>by Safari Medium 25 L Laptop Backpack Venture</td>\n",
       "      <td>4495.0</td>\n",
       "      <td>58</td>\n",
       "      <td>Green</td>\n",
       "      <td>4</td>\n",
       "      <td>Medium</td>\n",
       "      <td>25</td>\n",
       "    </tr>\n",
       "    <tr>\n",
       "      <th>1</th>\n",
       "      <td>Fast</td>\n",
       "      <td>Large 70 L Laptop Backpack Outdoor Sport Hikin...</td>\n",
       "      <td>439.0</td>\n",
       "      <td>85</td>\n",
       "      <td>Grey,</td>\n",
       "      <td>4</td>\n",
       "      <td>Large</td>\n",
       "      <td>70</td>\n",
       "    </tr>\n",
       "    <tr>\n",
       "      <th>2</th>\n",
       "      <td>HP</td>\n",
       "      <td>Medium 27 L Laptop Backpack Most popular colle...</td>\n",
       "      <td>299.0</td>\n",
       "      <td>73</td>\n",
       "      <td>Black,</td>\n",
       "      <td>4</td>\n",
       "      <td>Medium</td>\n",
       "      <td>27</td>\n",
       "    </tr>\n",
       "    <tr>\n",
       "      <th>3</th>\n",
       "      <td>MICXO</td>\n",
       "      <td>Medium 28 L Laptop Backpack Laptop Backpack Cl...</td>\n",
       "      <td>465.0</td>\n",
       "      <td>81</td>\n",
       "      <td>Tan</td>\n",
       "      <td>5</td>\n",
       "      <td>Medium</td>\n",
       "      <td>28</td>\n",
       "    </tr>\n",
       "    <tr>\n",
       "      <th>4</th>\n",
       "      <td>SamSaras</td>\n",
       "      <td>Large 60 L Laptop Backpack Unisex Water Proof ...</td>\n",
       "      <td>849.0</td>\n",
       "      <td>61</td>\n",
       "      <td>Black,</td>\n",
       "      <td>5</td>\n",
       "      <td>Large</td>\n",
       "      <td>60</td>\n",
       "    </tr>\n",
       "    <tr>\n",
       "      <th>...</th>\n",
       "      <td>...</td>\n",
       "      <td>...</td>\n",
       "      <td>...</td>\n",
       "      <td>...</td>\n",
       "      <td>...</td>\n",
       "      <td>...</td>\n",
       "      <td>...</td>\n",
       "      <td>...</td>\n",
       "    </tr>\n",
       "    <tr>\n",
       "      <th>955</th>\n",
       "      <td>PROVOGUE</td>\n",
       "      <td>Large 35 L Laptop Backpack LEADER 2.0 Unisex b...</td>\n",
       "      <td>521.0</td>\n",
       "      <td>82</td>\n",
       "      <td>Tan</td>\n",
       "      <td>4</td>\n",
       "      <td>Large</td>\n",
       "      <td>35</td>\n",
       "    </tr>\n",
       "    <tr>\n",
       "      <th>956</th>\n",
       "      <td>PROVOGUE</td>\n",
       "      <td>Large 31 L Laptop Backpack Classic Anti Theft ...</td>\n",
       "      <td>999.0</td>\n",
       "      <td>20</td>\n",
       "      <td>Tan</td>\n",
       "      <td>4</td>\n",
       "      <td>Large</td>\n",
       "      <td>31</td>\n",
       "    </tr>\n",
       "    <tr>\n",
       "      <th>957</th>\n",
       "      <td>PROVOGUE</td>\n",
       "      <td>Large 35 L Laptop Backpack Spacy unisex with r...</td>\n",
       "      <td>840.0</td>\n",
       "      <td>51</td>\n",
       "      <td>Black</td>\n",
       "      <td>4</td>\n",
       "      <td>Large</td>\n",
       "      <td>35</td>\n",
       "    </tr>\n",
       "    <tr>\n",
       "      <th>958</th>\n",
       "      <td>PROVOGUE</td>\n",
       "      <td>Large 35 L Laptop Backpack vegan Leather backp...</td>\n",
       "      <td>1599.0</td>\n",
       "      <td>42</td>\n",
       "      <td>Brown</td>\n",
       "      <td>4</td>\n",
       "      <td>Large</td>\n",
       "      <td>35</td>\n",
       "    </tr>\n",
       "    <tr>\n",
       "      <th>959</th>\n",
       "      <td>PROVOGUE</td>\n",
       "      <td>Medium 30 L Laptop Backpack Laptop Backpack fo...</td>\n",
       "      <td>389.0</td>\n",
       "      <td>71</td>\n",
       "      <td>Orange,</td>\n",
       "      <td>4</td>\n",
       "      <td>Medium</td>\n",
       "      <td>30</td>\n",
       "    </tr>\n",
       "  </tbody>\n",
       "</table>\n",
       "<p>830 rows × 8 columns</p>\n",
       "</div>"
      ],
      "text/plain": [
       "        Brand                                              Model   Price  \\\n",
       "0       Urban      by Safari Medium 25 L Laptop Backpack Venture  4495.0   \n",
       "1        Fast  Large 70 L Laptop Backpack Outdoor Sport Hikin...   439.0   \n",
       "2          HP  Medium 27 L Laptop Backpack Most popular colle...   299.0   \n",
       "3       MICXO  Medium 28 L Laptop Backpack Laptop Backpack Cl...   465.0   \n",
       "4    SamSaras  Large 60 L Laptop Backpack Unisex Water Proof ...   849.0   \n",
       "..        ...                                                ...     ...   \n",
       "955  PROVOGUE  Large 35 L Laptop Backpack LEADER 2.0 Unisex b...   521.0   \n",
       "956  PROVOGUE  Large 31 L Laptop Backpack Classic Anti Theft ...   999.0   \n",
       "957  PROVOGUE  Large 35 L Laptop Backpack Spacy unisex with r...   840.0   \n",
       "958  PROVOGUE  Large 35 L Laptop Backpack vegan Leather backp...  1599.0   \n",
       "959  PROVOGUE  Medium 30 L Laptop Backpack Laptop Backpack fo...   389.0   \n",
       "\n",
       "     Offer   Colour  Rating    Size  Volume  \n",
       "0       58    Green       4  Medium      25  \n",
       "1       85    Grey,       4   Large      70  \n",
       "2       73   Black,       4  Medium      27  \n",
       "3       81      Tan       5  Medium      28  \n",
       "4       61   Black,       5   Large      60  \n",
       "..     ...      ...     ...     ...     ...  \n",
       "955     82      Tan       4   Large      35  \n",
       "956     20      Tan       4   Large      31  \n",
       "957     51    Black       4   Large      35  \n",
       "958     42    Brown       4   Large      35  \n",
       "959     71  Orange,       4  Medium      30  \n",
       "\n",
       "[830 rows x 8 columns]"
      ]
     },
     "execution_count": 176,
     "metadata": {},
     "output_type": "execute_result"
    }
   ],
   "source": [
    "data1"
   ]
  },
  {
   "cell_type": "markdown",
   "id": "aed543b8-ba8f-4444-a9b1-48100aaa789c",
   "metadata": {},
   "source": [
    "## univariate analysis##"
   ]
  },
  {
   "cell_type": "code",
   "execution_count": null,
   "id": "d901b9fa-a647-4e64-956e-1fedaeb87553",
   "metadata": {},
   "outputs": [],
   "source": [
    "# Top 5 Branded model bags"
   ]
  },
  {
   "cell_type": "markdown",
   "id": "38ee72e5-d60d-43ef-be59-99268a1ca4cb",
   "metadata": {},
   "source": []
  },
  {
   "cell_type": "code",
   "execution_count": 178,
   "id": "318d1a46-b003-4ed7-8010-201c198b826b",
   "metadata": {},
   "outputs": [
    {
     "name": "stdout",
     "output_type": "stream",
     "text": [
      "      Brand\n",
      "0     ADISA\n",
      "1     ADISA\n",
      "2  AMERICAN\n",
      "3  AMERICAN\n",
      "4  AMERICAN\n",
      "5  AMERICAN\n",
      "6  AMERICAN\n",
      "7    ANTHUB\n",
      "8    ANTHUB\n",
      "9    ANTHUB\n"
     ]
    },
    {
     "name": "stderr",
     "output_type": "stream",
     "text": [
      "C:\\Users\\Sindhu\\AppData\\Local\\Temp\\ipykernel_52668\\3474241224.py:1: DeprecationWarning: DataFrameGroupBy.apply operated on the grouping columns. This behavior is deprecated, and in a future version of pandas the grouping columns will be excluded from the operation. Either pass `include_groups=False` to exclude the groupings or explicitly select the grouping columns after groupby to silence this warning.\n",
      "  top_rated_by_brand = data1.groupby(\"Brand\").apply(lambda x: x.nlargest(5, 'Rating')).reset_index(drop=True).head(10)\n"
     ]
    }
   ],
   "source": [
    "top_rated_by_brand = data1.groupby(\"Brand\").apply(lambda x: x.nlargest(5, 'Rating')).reset_index(drop=True).head(10)\n",
    "print(top_rated_by_brand[['Brand']])\n"
   ]
  },
  {
   "cell_type": "markdown",
   "id": "cba2d341-d07f-4199-9a54-cd7bccc724f8",
   "metadata": {},
   "source": [
    "# Top 5 Highest Rated Bags Overall"
   ]
  },
  {
   "cell_type": "code",
   "execution_count": 180,
   "id": "fece5389-3899-401a-b065-31e9ec5ef678",
   "metadata": {},
   "outputs": [
    {
     "name": "stdout",
     "output_type": "stream",
     "text": [
      "          Brand  Colour  Rating\n",
      "3         MICXO     Tan       5\n",
      "4      SamSaras  Black,       5\n",
      "5  SBCOLLECTION   Black       5\n",
      "7        SAFARI   Black       5\n",
      "8      PROVOGUE   Black       5\n"
     ]
    }
   ],
   "source": [
    "top_5_highest_rated = data1.nlargest(5, 'Rating')\n",
    "print(top_5_highest_rated[['Brand', 'Colour', 'Rating']])\n"
   ]
  },
  {
   "cell_type": "code",
   "execution_count": 182,
   "id": "f17a03ea-e715-44b2-a58d-9da87de13371",
   "metadata": {},
   "outputs": [
    {
     "data": {
      "image/png": "[encoded data removed]",
      "text/plain": [
       "<Figure size 500x500 with 1 Axes>"
      ]
     },
     "metadata": {},
     "output_type": "display_data"
    }
   ],
   "source": [
    "import matplotlib.pyplot as plt\n",
    "import seaborn as sns\n",
    "brand_count = data1['Brand'].value_counts().head(10)  # Showing top 10 Brands\n",
    "plt.figure(figsize=(5, 5))\n",
    "plt.pie(brand_count, labels=brand_count.index, autopct='%1.1f%%', colors=sns.color_palette(\"Paired\"))\n",
    "plt.title('Top 10 Most Popular Models')\n",
    "plt.axis('equal')\n",
    "plt.show()"
   ]
  },
  {
   "cell_type": "markdown",
   "id": "b6ad44fb-acaf-4269-b642-b4713d4afbea",
   "metadata": {},
   "source": [
    "# count of bags more than or equal to 50%"
   ]
  },
  {
   "cell_type": "code",
   "execution_count": 184,
   "id": "3569bd13-ef85-4410-b95a-3bc027f3d72a",
   "metadata": {},
   "outputs": [
    {
     "data": {
      "text/plain": [
       "771"
      ]
     },
     "execution_count": 184,
     "metadata": {},
     "output_type": "execute_result"
    }
   ],
   "source": [
    "count_bags = (data1['Offer'] >= 50).sum()\n",
    "count_bags"
   ]
  },
  {
   "cell_type": "code",
   "execution_count": 186,
   "id": "293be99b-fd16-4c53-9395-23e47cb014ab",
   "metadata": {},
   "outputs": [
    {
     "data": {
      "text/plain": [
       "<bound method Series.mean of 0      4495.0\n",
       "1       439.0\n",
       "2       299.0\n",
       "3       465.0\n",
       "4       849.0\n",
       "        ...  \n",
       "955     521.0\n",
       "956     999.0\n",
       "957     840.0\n",
       "958    1599.0\n",
       "959     389.0\n",
       "Name: Price, Length: 830, dtype: float64>"
      ]
     },
     "execution_count": 186,
     "metadata": {},
     "output_type": "execute_result"
    }
   ],
   "source": [
    "average_price=data1[\"Price\"].mean\n",
    "average_price"
   ]
  },
  {
   "cell_type": "code",
   "execution_count": 188,
   "id": "ad7b83f1-0b05-4284-879b-5afc0504e81d",
   "metadata": {},
   "outputs": [
    {
     "name": "stdout",
     "output_type": "stream",
     "text": [
      "no of colours: 23 .\n",
      "The colours are: ['Green' 'Grey,' 'Black,' 'Tan' 'Black' 'Blue' 'Grey' 'Brown' 'Green,'\n",
      " 'Brown,' 'Multicolor' 'Red' 'Blue,' 'Beige' 'Multicolor,' 'Maroon'\n",
      " 'Orange' 'Pink' 'Tan,' 'Silver' 'Orange,' 'Khaki,' 'Purple']\n"
     ]
    }
   ],
   "source": [
    "unique_colours = data1['Colour'].unique()\n",
    "num_unique_colours = len(unique_colours)\n",
    "\n",
    "print(f\"no of colours: {num_unique_colours} .\")\n",
    "print(\"The colours are:\", unique_colours)"
   ]
  },
  {
   "cell_type": "markdown",
   "id": "07a67299-88e6-430b-b2b9-a358e48adf9c",
   "metadata": {},
   "source": [
    "# Top brand of the laptop bag"
   ]
  },
  {
   "cell_type": "code",
   "execution_count": 190,
   "id": "84737988-c0a7-4c8b-9b1f-2db8a1683706",
   "metadata": {},
   "outputs": [
    {
     "name": "stdout",
     "output_type": "stream",
     "text": [
      "The brand with the highest number of laptop bag is :PROVOGUE\n",
      " with :81\n"
     ]
    }
   ],
   "source": [
    "brand_counts = data1['Brand'].value_counts()\n",
    "top_brand = brand_counts.idxmax()\n",
    "top_brand_count = brand_counts.max()\n",
    "print(f\"The brand with the highest number of laptop bag is :{top_brand}\\n with :{top_brand_count}\")"
   ]
  },
  {
   "cell_type": "markdown",
   "id": "e5ad0b94-e193-4949-8741-b89c6050e71c",
   "metadata": {},
   "source": [
    "# Top 10 Frequent Brands."
   ]
  },
  {
   "cell_type": "code",
   "execution_count": 192,
   "id": "a220a29b-16f2-4c8f-9f7a-a953ebfc2cff",
   "metadata": {},
   "outputs": [
    {
     "data": {
      "text/plain": [
       "<Axes: ylabel='Brand'>"
      ]
     },
     "execution_count": 192,
     "metadata": {},
     "output_type": "execute_result"
    },
    {
     "data": {
      "image/png": "[encoded data removed]",
      "text/plain": [
       "<Figure size 640x480 with 1 Axes>"
      ]
     },
     "metadata": {},
     "output_type": "display_data"
    }
   ],
   "source": [
    "data1['Brand'].value_counts().head(10).plot(kind='barh')"
   ]
  },
  {
   "cell_type": "markdown",
   "id": "e6cf9d30-0f2f-49ac-90e9-98f27deaa08c",
   "metadata": {},
   "source": [
    "# univariate:- price distribution"
   ]
  },
  {
   "cell_type": "markdown",
   "id": "e564fd2a-e809-4b04-a218-302a02061e11",
   "metadata": {},
   "source": [
    "*3. what is the distibution of prices of laptop bags on flip kart"
   ]
  },
  {
   "cell_type": "code",
   "execution_count": 194,
   "id": "c3d0100b-e94f-4096-a8ec-2bb598f51a71",
   "metadata": {},
   "outputs": [
    {
     "data": {
      "image/png": "[encoded data removed]",
      "text/plain": [
       "<Figure size 800x600 with 1 Axes>"
      ]
     },
     "metadata": {},
     "output_type": "display_data"
    }
   ],
   "source": [
    "# Plot histogram of Price\n",
    "# Box plot to detect outliers in Price\n",
    "plt.figure(figsize=(8, 6))\n",
    "sns.boxplot(data=data1, y='Price')\n",
    "plt.title('Box Plot for Price')\n",
    "plt.show()\n"
   ]
  },
  {
   "cell_type": "markdown",
   "id": "344c6cf5-e1e4-4194-8d33-7988a2266bbf",
   "metadata": {},
   "source": [
    "# univarite Rating distribution"
   ]
  },
  {
   "cell_type": "markdown",
   "id": "cc4d57e1-918a-4557-bd9a-26e8fbb8b604",
   "metadata": {},
   "source": [
    "*  what is Rating Distribution"
   ]
  },
  {
   "cell_type": "code",
   "execution_count": 196,
   "id": "6da9847d-c850-4331-aaf4-9be495f0ace6",
   "metadata": {},
   "outputs": [
    {
     "data": {
      "image/png": "[encoded data removed]",
      "text/plain": [
       "<Figure size 800x600 with 1 Axes>"
      ]
     },
     "metadata": {},
     "output_type": "display_data"
    }
   ],
   "source": [
    "# Plot histogram of Ratings\n",
    "plt.figure(figsize=(8, 6))\n",
    "sns.histplot(data1['Rating'], bins=20, kde=True)\n",
    "plt.title('Distribution of Ratings')\n",
    "plt.xlabel('Rating')\n",
    "plt.ylabel('Frequency')\n",
    "plt.show()"
   ]
  },
  {
   "cell_type": "markdown",
   "id": "2c8ca3fa-8186-4e0b-9e6b-b86f86b961f2",
   "metadata": {},
   "source": [
    "# univariate:top 5 brands"
   ]
  },
  {
   "cell_type": "markdown",
   "id": "a7be52d4-6f83-4c41-9cae-974c689703e8",
   "metadata": {},
   "source": [
    "* 1.what are the most common brands available for laptops?"
   ]
  },
  {
   "cell_type": "code",
   "execution_count": 198,
   "id": "5bf53f2c-f78c-4f71-8e99-5b657270ab49",
   "metadata": {},
   "outputs": [
    {
     "name": "stdout",
     "output_type": "stream",
     "text": [
      "Brand\n",
      "PROVOGUE        81\n",
      "Urban           60\n",
      "Fast            49\n",
      "SBCOLLECTION    47\n",
      "markway         41\n",
      "Name: count, dtype: int64\n"
     ]
    }
   ],
   "source": [
    "most_common_brands = data1['Brand'].value_counts()\n",
    "print(most_common_brands.head(5))"
   ]
  },
  {
   "cell_type": "code",
   "execution_count": 200,
   "id": "6b5eae1c-1700-45e9-84e5-8b37cd1836ea",
   "metadata": {},
   "outputs": [
    {
     "name": "stderr",
     "output_type": "stream",
     "text": [
      "C:\\Users\\Sindhu\\AppData\\Local\\Temp\\ipykernel_52668\\373767773.py:3: FutureWarning: \n",
      "\n",
      "Passing `palette` without assigning `hue` is deprecated and will be removed in v0.14.0. Assign the `x` variable to `hue` and set `legend=False` for the same effect.\n",
      "\n",
      "  sns.barplot(x=most_common_brands.index, y=most_common_brands.values, palette=\"viridis\")\n"
     ]
    },
    {
     "data": {
      "image/png": "[encoded data removed]",
      "text/plain": [
       "<Figure size 1000x600 with 1 Axes>"
      ]
     },
     "metadata": {},
     "output_type": "display_data"
    }
   ],
   "source": [
    "most_common_brands = data1['Brand'].value_counts().head(5)\n",
    "plt.figure(figsize=(10,6))\n",
    "sns.barplot(x=most_common_brands.index, y=most_common_brands.values, palette=\"viridis\")\n",
    "plt.title('Top 5 Most Common Laptop Bag Brands', fontsize=16)\n",
    "plt.xlabel('Brand', fontsize=12)\n",
    "plt.ylabel('Frequency', fontsize=12)\n",
    "plt.show()\n"
   ]
  },
  {
   "cell_type": "markdown",
   "id": "4049019f-9696-4d05-8ee4-cd6f286c9fad",
   "metadata": {},
   "source": [
    "# univariate size distribution"
   ]
  },
  {
   "cell_type": "markdown",
   "id": "b6a1df65-ceb7-438f-8ca3-c5bd8e36ccf9",
   "metadata": {},
   "source": [
    "* 3.What is the size distribution (small, medium, large) of laptop bags?"
   ]
  },
  {
   "cell_type": "code",
   "execution_count": 202,
   "id": "afd48e31-b781-40c6-91ad-ffc00839c92a",
   "metadata": {},
   "outputs": [
    {
     "name": "stdout",
     "output_type": "stream",
     "text": [
      "Size\n",
      "Large     398\n",
      "Medium    377\n",
      "Small      55\n",
      "Name: count, dtype: int64\n"
     ]
    }
   ],
   "source": [
    "size_distribution = data1['Size'].value_counts()\n",
    "print(size_distribution)\n"
   ]
  },
  {
   "cell_type": "code",
   "execution_count": 204,
   "id": "7e57979c-5c0b-449a-b2fe-0c4b7fa35037",
   "metadata": {},
   "outputs": [
    {
     "data": {
      "image/png": "[encoded data removed]",
      "text/plain": [
       "<Figure size 800x500 with 1 Axes>"
      ]
     },
     "metadata": {},
     "output_type": "display_data"
    }
   ],
   "source": [
    "size_distribution = data1['Size'].value_counts()\n",
    "size_distribution.plot(kind='pie', autopct='%1.1f%%', figsize=(8, 5))\n",
    "plt.title('Size Distribution of Laptop Bags')\n",
    "plt.ylabel('')\n",
    "plt.show()\n"
   ]
  },
  {
   "cell_type": "markdown",
   "id": "c74f48e5-8f2e-488e-bfff-998cd1f93e00",
   "metadata": {},
   "source": [
    "# univarite:-clours distribution"
   ]
  },
  {
   "cell_type": "markdown",
   "id": "2148e687-26da-41f6-b86c-13208d081f84",
   "metadata": {},
   "source": [
    "*4.what are colour options available in laptop bags?"
   ]
  },
  {
   "cell_type": "code",
   "execution_count": 206,
   "id": "6000e4e8-24ba-4122-8148-6dbe03b4009f",
   "metadata": {},
   "outputs": [
    {
     "name": "stdout",
     "output_type": "stream",
     "text": [
      "Colour\n",
      "black    391\n",
      "blue     125\n",
      "grey     106\n",
      "green     75\n",
      "brown     39\n",
      "Name: count, dtype: int64\n"
     ]
    },
    {
     "name": "stderr",
     "output_type": "stream",
     "text": [
      "C:\\Users\\Sindhu\\AppData\\Local\\Temp\\ipykernel_52668\\1909700655.py:3: SettingWithCopyWarning: \n",
      "A value is trying to be set on a copy of a slice from a DataFrame.\n",
      "Try using .loc[row_indexer,col_indexer] = value instead\n",
      "\n",
      "See the caveats in the documentation: https://pandas.pydata.org/pandas-docs/stable/user_guide/indexing.html#returning-a-view-versus-a-copy\n",
      "  data1['Colour'] = data1['Colour'].str.lower().str.replace(',', '').str.strip()\n"
     ]
    }
   ],
   "source": [
    "import pandas as pd\n",
    "import matplotlib.pyplot as plt\n",
    "data1['Colour'] = data1['Colour'].str.lower().str.replace(',', '').str.strip()\n",
    "color_frequency = data1['Colour'].value_counts().head(5)\n",
    "print(color_frequency)\n"
   ]
  },
  {
   "cell_type": "code",
   "execution_count": 208,
   "id": "fd3686d9-c12b-4b3e-a7bd-986f1a623cec",
   "metadata": {},
   "outputs": [
    {
     "data": {
      "image/png": "[encoded data removed]",
      "text/plain": [
       "<Figure size 1000x600 with 1 Axes>"
      ]
     },
     "metadata": {},
     "output_type": "display_data"
    }
   ],
   "source": [
    "color_frequency.head(10).plot(kind='bar', figsize=(10, 6), color='orange')\n",
    "plt.title('Top 10 Most Common Colors for Laptop Bags')\n",
    "plt.xlabel('Color')\n",
    "plt.ylabel('Frequency')\n",
    "plt.xticks(rotation=45)\n",
    "plt.show()"
   ]
  },
  {
   "cell_type": "markdown",
   "id": "c5d33e39-05f4-4c39-a922-590fda41f903",
   "metadata": {},
   "source": [
    "# univariate - percentage above 4.0 rating"
   ]
  },
  {
   "cell_type": "markdown",
   "id": "388a0ded-1a4b-4f9f-b3ad-73ab92d98629",
   "metadata": {},
   "source": [
    "* Percentage of laptop bags with rating above 4.0"
   ]
  },
  {
   "cell_type": "code",
   "execution_count": 210,
   "id": "95e8ca4c-a075-4d26-8abc-ce99fe6bb33b",
   "metadata": {},
   "outputs": [
    {
     "name": "stdout",
     "output_type": "stream",
     "text": [
      "Percentage of laptop bags with rating above 4.0: 19.04%\n"
     ]
    }
   ],
   "source": [
    "percentage_above_4 = (data1[data1['Rating'] > 4.0].shape[0] / data1.shape[0]) * 100\n",
    "print(f\"Percentage of laptop bags with rating above 4.0: {percentage_above_4:.2f}%\")"
   ]
  },
  {
   "cell_type": "markdown",
   "id": "aea99ef7-2db8-4c37-bef1-d8ed73147129",
   "metadata": {},
   "source": [
    "# Bivariate Analysis"
   ]
  },
  {
   "cell_type": "code",
   "execution_count": 213,
   "id": "c59183f7-307d-49ca-b939-b10bdfbc93c9",
   "metadata": {},
   "outputs": [
    {
     "data": {
      "image/png": "[encoded data removed]",
      "text/plain": [
       "<Figure size 800x600 with 2 Axes>"
      ]
     },
     "metadata": {},
     "output_type": "display_data"
    }
   ],
   "source": [
    "numeric_data = data1[['Price', 'Offer', 'Rating', 'Volume']]\n",
    "corr_matrix = numeric_data.corr()\n",
    "plt.figure(figsize=(8, 6)) \n",
    "sns.heatmap(corr_matrix, annot=True, cmap=\"viridis\", fmt='.2f', linewidths=0.5)\n",
    "plt.title(\"Correlation Heatmap of Price, Offer, Rating, and Volume\")\n",
    "plt.show()"
   ]
  },
  {
   "cell_type": "markdown",
   "id": "5bc84135-d06a-4d30-9f88-5008eed6ac69",
   "metadata": {},
   "source": [
    "# Bivariate prics vs Rating"
   ]
  },
  {
   "cell_type": "markdown",
   "id": "ca1ea3a1-e343-45b3-949f-bcc2f8bf134a",
   "metadata": {},
   "source": [
    "* relationship between price and rating"
   ]
  },
  {
   "cell_type": "code",
   "execution_count": 215,
   "id": "7dd06753-c0ef-409e-bac8-16c6bc18f2cc",
   "metadata": {},
   "outputs": [
    {
     "data": {
      "image/png": "[encoded data removed]",
      "text/plain": [
       "<Figure size 800x600 with 1 Axes>"
      ]
     },
     "metadata": {},
     "output_type": "display_data"
    }
   ],
   "source": [
    "plt.figure(figsize=(8, 6))\n",
    "sns.scatterplot(data=data1, x='Price', y='Rating', hue='Rating', palette='viridis', s=100, alpha=0.7)\n",
    "\n",
    "plt.title(\"Relationship Between Price and Rating of Laptop Bags\")\n",
    "plt.xlabel(\"Price\")\n",
    "plt.ylabel(\"Rating\")\n",
    "plt.legend(title=\"Rating\")\n",
    "plt.show()"
   ]
  },
  {
   "cell_type": "markdown",
   "id": "590acfb5-84d7-4214-8918-ce216569950b",
   "metadata": {},
   "source": [
    "# bivariate rating and volume"
   ]
  },
  {
   "cell_type": "markdown",
   "id": "04a67c7b-f663-4f16-9875-1114bd0a0977",
   "metadata": {},
   "source": [
    "* relation ship between rating and volume"
   ]
  },
  {
   "cell_type": "code",
   "execution_count": 217,
   "id": "cf23d4e3-e0c6-4c12-915e-26cc70b4093b",
   "metadata": {},
   "outputs": [
    {
     "data": {
      "image/png": "[encoded data removed]",
      "text/plain": [
       "<Figure size 800x600 with 1 Axes>"
      ]
     },
     "metadata": {},
     "output_type": "display_data"
    }
   ],
   "source": [
    "# Scatter plot to show the relationship between Rating and Sales Volume\n",
    "plt.figure(figsize=(8, 6))\n",
    "sns.scatterplot(data=data1, x='Rating', y='Volume', color='green', s=100, alpha=0.7)\n",
    "\n",
    "plt.title(\"Relationship Between Rating and Volume\")\n",
    "plt.xlabel(\"Rating\")\n",
    "plt.ylabel(\"Sales Volume\")\n",
    "plt.show()\n"
   ]
  },
  {
   "cell_type": "markdown",
   "id": "15c326c4-a502-4334-9e20-0484a6ab1be4",
   "metadata": {},
   "source": [
    "# Therotical questions"
   ]
  },
  {
   "cell_type": "markdown",
   "id": "9f66a635-5d97-4628-8742-ddcc1afbb489",
   "metadata": {},
   "source": [
    "* 1.which model bag have sale?\n",
    "* Ans: HP\n",
    "* 2.How many bags have more than 50% offer?\n",
    "* Ans.619 Bags\n",
    "* 3.What are the most popular sale colour?\n",
    "* Ans.Black"
   ]
  },
  {
   "cell_type": "code",
   "execution_count": null,
   "id": "775549b0-4045-4ebf-a67e-d81b9adfdead",
   "metadata": {},
   "outputs": [],
   "source": []
  }
 ],
 "metadata": {
  "kernelspec": {
   "display_name": "Python 3 (ipykernel)",
   "language": "python",
   "name": "python3"
  },
  "language_info": {
   "codemirror_mode": {
    "name": "ipython",
    "version": 3
   },
   "file_extension": ".py",
   "mimetype": "text/x-python",
   "name": "python",
   "nbconvert_exporter": "python",
   "pygments_lexer": "ipython3",
   "version": "3.12.4"
  }
 },
 "nbformat": 4,
 "nbformat_minor": 5
}
